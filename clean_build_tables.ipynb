{
 "cells": [
  {
   "cell_type": "markdown",
   "metadata": {},
   "source": [
    "## Shrink build_tables_output"
   ]
  },
  {
   "cell_type": "code",
   "execution_count": 1,
   "metadata": {},
   "outputs": [],
   "source": [
    "import pandas as pd"
   ]
  },
  {
   "cell_type": "code",
   "execution_count": 2,
   "metadata": {},
   "outputs": [],
   "source": [
    "datadir = '/home/freddy/insight/data/'\n",
    "filename = datadir + 'build_tables_output.csv'"
   ]
  },
  {
   "cell_type": "code",
   "execution_count": 3,
   "metadata": {},
   "outputs": [
    {
     "name": "stderr",
     "output_type": "stream",
     "text": [
      "/home/freddy/.local/lib/python3.6/site-packages/IPython/core/interactiveshell.py:2785: DtypeWarning: Columns (5) have mixed types. Specify dtype option on import or set low_memory=False.\n",
      "  interactivity=interactivity, compiler=compiler, result=result)\n"
     ]
    }
   ],
   "source": [
    "df = pd.read_csv(filename)\n",
    "nrows0 = df.shape[0]"
   ]
  },
  {
   "cell_type": "code",
   "execution_count": 4,
   "metadata": {},
   "outputs": [],
   "source": [
    "df=df[df.terrain != 'Multi']"
   ]
  },
  {
   "cell_type": "code",
   "execution_count": 5,
   "metadata": {},
   "outputs": [],
   "source": [
    "df=df.drop(columns=['Unnamed: 0'], axis=1)"
   ]
  },
  {
   "cell_type": "code",
   "execution_count": 6,
   "metadata": {},
   "outputs": [],
   "source": [
    "cols = ['age_group','name','sex', 'race_title', \n",
    "        'terrain', 'race_date', 'meeting_id']"
   ]
  },
  {
   "cell_type": "code",
   "execution_count": 7,
   "metadata": {},
   "outputs": [],
   "source": [
    "for i in cols:\n",
    "    df = df[pd.notnull(df[i])]"
   ]
  },
  {
   "cell_type": "code",
   "execution_count": 8,
   "metadata": {},
   "outputs": [],
   "source": [
    "df['chip_time'].fillna(0, inplace=True)\n",
    "df['gun_time'].fillna(0, inplace=True)"
   ]
  },
  {
   "cell_type": "code",
   "execution_count": 9,
   "metadata": {},
   "outputs": [
    {
     "name": "stdout",
     "output_type": "stream",
     "text": [
      "percent lost = 27.459%\n"
     ]
    }
   ],
   "source": [
    "nrows1 = df.shape[0]\n",
    "frac = (1-nrows1/nrows0)*100\n",
    "print('percent lost = %1.3f%%' % frac)"
   ]
  },
  {
   "cell_type": "code",
   "execution_count": 10,
   "metadata": {},
   "outputs": [],
   "source": [
    "IDs = df['meeting_id'].tolist()"
   ]
  },
  {
   "cell_type": "code",
   "execution_count": 11,
   "metadata": {},
   "outputs": [],
   "source": [
    "def cut_up_url(url):\n",
    "    flag = 'meetingid='\n",
    "    start = url.find(flag)+len(flag) \n",
    "    end   = url.find('&')\n",
    "    substr = url[start:end]\n",
    "    return int(substr)"
   ]
  },
  {
   "cell_type": "code",
   "execution_count": 12,
   "metadata": {},
   "outputs": [],
   "source": [
    "def handle_gpx(filename):\n",
    "    gpx = pd.read_csv(filename, header=0)\n",
    "    gpx['meeting_id'] = gpx['URL'].apply(lambda x: cut_up_url(x))\n",
    "    #gpx.rename(index=str, columns={'race_data':'race_date'})\n",
    "    return gpx"
   ]
  },
  {
   "cell_type": "code",
   "execution_count": 13,
   "metadata": {},
   "outputs": [],
   "source": [
    "gpx = handle_gpx(datadir + 'gpx_discover.csv')\n",
    "gpx_IDs = gpx['meeting_id'].tolist()"
   ]
  },
  {
   "cell_type": "code",
   "execution_count": 14,
   "metadata": {},
   "outputs": [],
   "source": [
    "# Make everything unique, and then find the overlap\n",
    "uniqueIDs = set(IDs)\n",
    "gpx_uniqueIDs = set(gpx_IDs)"
   ]
  },
  {
   "cell_type": "code",
   "execution_count": 15,
   "metadata": {},
   "outputs": [],
   "source": [
    "overlapIDs = list(uniqueIDs & gpx_uniqueIDs)"
   ]
  },
  {
   "cell_type": "code",
   "execution_count": 16,
   "metadata": {},
   "outputs": [],
   "source": [
    "dfnew = df[df['meeting_id'].isin(overlapIDs)]"
   ]
  },
  {
   "cell_type": "code",
   "execution_count": 17,
   "metadata": {
    "scrolled": true
   },
   "outputs": [],
   "source": [
    "#df.groupby(['name'], as_index=False).size().sort_values(ascending=False)\n",
    "#df.groupby(['race_location'], as_index=False).size().sort_values(ascending=False)"
   ]
  },
  {
   "cell_type": "code",
   "execution_count": 18,
   "metadata": {},
   "outputs": [
    {
     "data": {
      "text/html": [
       "<div>\n",
       "<style scoped>\n",
       "    .dataframe tbody tr th:only-of-type {\n",
       "        vertical-align: middle;\n",
       "    }\n",
       "\n",
       "    .dataframe tbody tr th {\n",
       "        vertical-align: top;\n",
       "    }\n",
       "\n",
       "    .dataframe thead th {\n",
       "        text-align: right;\n",
       "    }\n",
       "</style>\n",
       "<table border=\"1\" class=\"dataframe\">\n",
       "  <thead>\n",
       "    <tr style=\"text-align: right;\">\n",
       "      <th></th>\n",
       "      <th>age_group</th>\n",
       "      <th>chip_time</th>\n",
       "      <th>gun_time</th>\n",
       "      <th>name</th>\n",
       "      <th>position</th>\n",
       "      <th>race_title</th>\n",
       "      <th>sex</th>\n",
       "      <th>terrain</th>\n",
       "      <th>race_date</th>\n",
       "      <th>race_location</th>\n",
       "      <th>meeting_id</th>\n",
       "      <th>uniqueID</th>\n",
       "    </tr>\n",
       "  </thead>\n",
       "  <tbody>\n",
       "    <tr>\n",
       "      <th>1134964</th>\n",
       "      <td>U23</td>\n",
       "      <td>25:15</td>\n",
       "      <td>25:15</td>\n",
       "      <td>Callum Charleston</td>\n",
       "      <td>1</td>\n",
       "      <td>5M</td>\n",
       "      <td>M</td>\n",
       "      <td>Road</td>\n",
       "      <td>26 Dec 18</td>\n",
       "      <td>Witham</td>\n",
       "      <td>257748.0</td>\n",
       "      <td>3874.0</td>\n",
       "    </tr>\n",
       "    <tr>\n",
       "      <th>1134965</th>\n",
       "      <td>U23</td>\n",
       "      <td>25:27</td>\n",
       "      <td>25:28</td>\n",
       "      <td>Ramadan Osman</td>\n",
       "      <td>2</td>\n",
       "      <td>5M</td>\n",
       "      <td>M</td>\n",
       "      <td>Road</td>\n",
       "      <td>26 Dec 18</td>\n",
       "      <td>Witham</td>\n",
       "      <td>257748.0</td>\n",
       "      <td>3874.0</td>\n",
       "    </tr>\n",
       "    <tr>\n",
       "      <th>1134966</th>\n",
       "      <td>SEN</td>\n",
       "      <td>25:33</td>\n",
       "      <td>25:35</td>\n",
       "      <td>David Green</td>\n",
       "      <td>3</td>\n",
       "      <td>5M</td>\n",
       "      <td>M</td>\n",
       "      <td>Road</td>\n",
       "      <td>26 Dec 18</td>\n",
       "      <td>Witham</td>\n",
       "      <td>257748.0</td>\n",
       "      <td>3874.0</td>\n",
       "    </tr>\n",
       "    <tr>\n",
       "      <th>1134967</th>\n",
       "      <td>SEN</td>\n",
       "      <td>25:44</td>\n",
       "      <td>25:45</td>\n",
       "      <td>Stephen Strange</td>\n",
       "      <td>4</td>\n",
       "      <td>5M</td>\n",
       "      <td>M</td>\n",
       "      <td>Road</td>\n",
       "      <td>26 Dec 18</td>\n",
       "      <td>Witham</td>\n",
       "      <td>257748.0</td>\n",
       "      <td>3874.0</td>\n",
       "    </tr>\n",
       "    <tr>\n",
       "      <th>1134968</th>\n",
       "      <td>V40</td>\n",
       "      <td>25:54</td>\n",
       "      <td>25:55</td>\n",
       "      <td>Crispian Bloomfield</td>\n",
       "      <td>5</td>\n",
       "      <td>5M</td>\n",
       "      <td>M</td>\n",
       "      <td>Road</td>\n",
       "      <td>26 Dec 18</td>\n",
       "      <td>Witham</td>\n",
       "      <td>257748.0</td>\n",
       "      <td>3874.0</td>\n",
       "    </tr>\n",
       "  </tbody>\n",
       "</table>\n",
       "</div>"
      ],
      "text/plain": [
       "        age_group chip_time gun_time                 name position race_title  \\\n",
       "1134964       U23     25:15    25:15    Callum Charleston        1         5M   \n",
       "1134965       U23     25:27    25:28        Ramadan Osman        2         5M   \n",
       "1134966       SEN     25:33    25:35          David Green        3         5M   \n",
       "1134967       SEN     25:44    25:45      Stephen Strange        4         5M   \n",
       "1134968       V40     25:54    25:55  Crispian Bloomfield        5         5M   \n",
       "\n",
       "        sex terrain  race_date race_location  meeting_id  uniqueID  \n",
       "1134964   M    Road  26 Dec 18        Witham    257748.0    3874.0  \n",
       "1134965   M    Road  26 Dec 18        Witham    257748.0    3874.0  \n",
       "1134966   M    Road  26 Dec 18        Witham    257748.0    3874.0  \n",
       "1134967   M    Road  26 Dec 18        Witham    257748.0    3874.0  \n",
       "1134968   M    Road  26 Dec 18        Witham    257748.0    3874.0  "
      ]
     },
     "execution_count": 18,
     "metadata": {},
     "output_type": "execute_result"
    }
   ],
   "source": [
    "dfnew.head()"
   ]
  },
  {
   "cell_type": "code",
   "execution_count": 19,
   "metadata": {},
   "outputs": [],
   "source": [
    "#dfnew.to_csv('data_overlaps_with_gpx.csv',sep=',')"
   ]
  },
  {
   "cell_type": "code",
   "execution_count": 23,
   "metadata": {},
   "outputs": [],
   "source": [
    "dfnew.loc[dfnew.race_title=='10k','race_title'] = '10K'\n",
    "dfnew=dfnew[dfnew.race_title == '10K']"
   ]
  },
  {
   "cell_type": "code",
   "execution_count": 25,
   "metadata": {},
   "outputs": [],
   "source": [
    "#dfnew.groupby(['race_location','race_title'], as_index=False).size().sort_values(ascending=False)"
   ]
  },
  {
   "cell_type": "code",
   "execution_count": null,
   "metadata": {},
   "outputs": [],
   "source": []
  }
 ],
 "metadata": {
  "kernelspec": {
   "display_name": "Python 3",
   "language": "python",
   "name": "python3"
  },
  "language_info": {
   "codemirror_mode": {
    "name": "ipython",
    "version": 3
   },
   "file_extension": ".py",
   "mimetype": "text/x-python",
   "name": "python",
   "nbconvert_exporter": "python",
   "pygments_lexer": "ipython3",
   "version": "3.6.7"
  }
 },
 "nbformat": 4,
 "nbformat_minor": 2
}
