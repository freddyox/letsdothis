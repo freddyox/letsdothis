{
 "cells": [
  {
   "cell_type": "markdown",
   "metadata": {},
   "source": [
    "## Shrink build_tables_output"
   ]
  },
  {
   "cell_type": "code",
   "execution_count": 1,
   "metadata": {},
   "outputs": [],
   "source": [
    "import pandas as pd\n",
    "import seaborn as sns\n",
    "import matplotlib.pyplot as plt\n",
    "import numpy as np\n",
    "from sklearn import metrics, svm\n",
    "from sklearn.linear_model import LogisticRegression\n",
    "from sklearn import preprocessing\n",
    "from sklearn import utils\n",
    "import warnings\n",
    "warnings.filterwarnings('ignore')"
   ]
  },
  {
   "cell_type": "code",
   "execution_count": 2,
   "metadata": {},
   "outputs": [],
   "source": [
    "datadir = '/home/freddy/insight/data/'\n",
    "filename = datadir + 'build_tables_output_cleaned.csv'"
   ]
  },
  {
   "cell_type": "code",
   "execution_count": 3,
   "metadata": {},
   "outputs": [],
   "source": [
    "df = pd.read_csv(filename)\n",
    "nrows0 = df.shape[0]"
   ]
  },
  {
   "cell_type": "code",
   "execution_count": 4,
   "metadata": {},
   "outputs": [],
   "source": [
    "df=df[df.terrain != 'Multi']"
   ]
  },
  {
   "cell_type": "code",
   "execution_count": 5,
   "metadata": {},
   "outputs": [],
   "source": [
    "df=df.drop(columns=['Unnamed: 0'], axis=1)"
   ]
  },
  {
   "cell_type": "code",
   "execution_count": 6,
   "metadata": {},
   "outputs": [],
   "source": [
    "cols = ['age_group','name','sex', 'race_title', \n",
    "        'terrain', 'race_date', 'meeting_id','event_title']"
   ]
  },
  {
   "cell_type": "code",
   "execution_count": 7,
   "metadata": {},
   "outputs": [],
   "source": [
    "for i in cols:\n",
    "    df = df[pd.notnull(df[i])]"
   ]
  },
  {
   "cell_type": "code",
   "execution_count": 8,
   "metadata": {},
   "outputs": [],
   "source": [
    "# Make it huge b/c I will find min later\n",
    "df['chip_time'].fillna('100:59:59', inplace=True)\n",
    "df['gun_time'].fillna('100:59:59', inplace=True)"
   ]
  },
  {
   "cell_type": "code",
   "execution_count": 9,
   "metadata": {},
   "outputs": [
    {
     "name": "stdout",
     "output_type": "stream",
     "text": [
      "percent lost = 27.307%\n"
     ]
    }
   ],
   "source": [
    "nrows1 = df.shape[0]\n",
    "frac = (1-nrows1/nrows0)*100\n",
    "print('percent lost = %1.3f%%' % frac)"
   ]
  },
  {
   "cell_type": "code",
   "execution_count": 11,
   "metadata": {},
   "outputs": [],
   "source": [
    "dft=df[df.race_title == 'Mar']\n",
    "marathons = dft.groupby(['meeting_id','event_title','race_date'],as_index=False).count()\n",
    "# Write out the averaged time bands\n",
    "marathons.to_csv('explore_marathons.csv',sep=',',index=False)\n",
    "mardict = dict(zip(marathons.meeting_id,marathons.event_title))"
   ]
  },
  {
   "cell_type": "code",
   "execution_count": 40,
   "metadata": {},
   "outputs": [],
   "source": [
    "f3 = open('explore_marathons.csv', 'w')\n",
    "f3.write('ID,event\\n')\n",
    "for key, val in mardict.items():\n",
    "    f3.write('%d,%s\\n'%(key,val))\n",
    "f3.close()"
   ]
  },
  {
   "cell_type": "code",
   "execution_count": 16,
   "metadata": {},
   "outputs": [],
   "source": [
    "def cut_up_url(url):\n",
    "    flag = 'meetingid='\n",
    "    start = url.find(flag)+len(flag) \n",
    "    end   = url.find('&')\n",
    "    substr = url[start:end]\n",
    "    return int(substr)"
   ]
  },
  {
   "cell_type": "code",
   "execution_count": null,
   "metadata": {},
   "outputs": [],
   "source": [
    "def handle_gpx(filename):\n",
    "    gpx = pd.read_csv(filename, header=0)\n",
    "    gpx['meeting_id'] = gpx['URL'].apply(lambda x: cut_up_url(x))\n",
    "    #gpx.rename(index=str, columns={'race_data':'race_date'})\n",
    "    return gpx\n",
    "#gpx = handle_gpx(datadir + 'gpx_discover.csv')\n",
    "#gpx_IDs = gpx['meeting_id'].tolist()"
   ]
  },
  {
   "cell_type": "code",
   "execution_count": null,
   "metadata": {},
   "outputs": [],
   "source": [
    "def cleaned_gpx(filename):\n",
    "    gpx = pd.read_csv(filename, header=0)\n",
    "    return gpx"
   ]
  },
  {
   "cell_type": "code",
   "execution_count": null,
   "metadata": {},
   "outputs": [],
   "source": [
    "gpx = cleaned_gpx(datadir + 'gpx_elevation_map_new.csv')"
   ]
  },
  {
   "cell_type": "code",
   "execution_count": null,
   "metadata": {},
   "outputs": [],
   "source": [
    "# Make everything unique, and then find the overlap\n",
    "IDs = df['meeting_id'].tolist()\n",
    "gpx_IDs = gpx['meeting_id'].tolist()\n",
    "uniqueIDs = set(IDs)\n",
    "gpx_uniqueIDs = set(gpx_IDs)\n",
    "overlapIDs = list(uniqueIDs & gpx_uniqueIDs)\n",
    "print('Found %d GPX files with overlapping IDs' % len(overlapIDs))"
   ]
  },
  {
   "cell_type": "markdown",
   "metadata": {},
   "source": [
    "## For now, only consider races that have a corresponding GPX file."
   ]
  },
  {
   "cell_type": "code",
   "execution_count": null,
   "metadata": {},
   "outputs": [],
   "source": [
    "dfnew = df[df['meeting_id'].isin(overlapIDs)]\n",
    "gpxnew = gpx[gpx['meeting_id'].isin(overlapIDs)]\n",
    "nrows0 = dfnew.shape[0]"
   ]
  },
  {
   "cell_type": "code",
   "execution_count": null,
   "metadata": {},
   "outputs": [],
   "source": [
    "# For some reason these are floats... \n",
    "dfnew.meeting_id = dfnew.meeting_id.astype(int)\n",
    "dfnew.uniqueID = dfnew.uniqueID.astype(int)"
   ]
  },
  {
   "cell_type": "code",
   "execution_count": null,
   "metadata": {},
   "outputs": [],
   "source": [
    "# Lets make our life easier and remove the following race types\n",
    "races2delete = ['1.2KNAD U15','1.2KNAD U17','1.5K U11','10KNAD',\n",
    "                '12MNAD','3K U13','3K U15','5K A','5K B','5K E',\n",
    "                '5K FR','5KNAD','5MNAD','5MWC','6MNAD']"
   ]
  },
  {
   "cell_type": "code",
   "execution_count": null,
   "metadata": {},
   "outputs": [],
   "source": [
    "dfnew = dfnew[~dfnew['race_title'].isin(races2delete)]\n",
    "nrows1 = dfnew.shape[0]\n",
    "dfnew.groupby(['race_title'],as_index=False).size()\n",
    "frac = (1-nrows1/nrows0)*100\n",
    "print('percent lost = %1.3f%%' % frac)"
   ]
  },
  {
   "cell_type": "markdown",
   "metadata": {},
   "source": [
    "### Convert race_title to a mileage"
   ]
  },
  {
   "cell_type": "code",
   "execution_count": null,
   "metadata": {},
   "outputs": [],
   "source": [
    "distmap= {'1M':1.0, '3K':1.86, '2M':2.0, '5K':3.1, '4M':4.0,\n",
    "          '5M':5.0, '6M':6.0, '10K':6.2, 'QM':6.55, '7M':7.0, '10M':10.0,\n",
    "          'HM':13.1, 'Mar':26.2}"
   ]
  },
  {
   "cell_type": "code",
   "execution_count": null,
   "metadata": {},
   "outputs": [],
   "source": [
    "def distance(t):\n",
    "    return distmap[t]"
   ]
  },
  {
   "cell_type": "code",
   "execution_count": null,
   "metadata": {},
   "outputs": [],
   "source": [
    "dfnew['race_dist'] = dfnew['race_title'].apply(lambda x: distance(x))"
   ]
  },
  {
   "cell_type": "code",
   "execution_count": null,
   "metadata": {},
   "outputs": [],
   "source": [
    "def fix_time(t):\n",
    "    parts = t.split(':')\n",
    "    ncolons = t.count(':')\n",
    "    if ncolons == 1:\n",
    "        return t\n",
    "    elif ncolons == 2:\n",
    "        min = int(parts[0])*60 + int(parts[1])\n",
    "        return str(min) + ':' + parts[2]\n",
    "    else:\n",
    "        return '10000:00'"
   ]
  },
  {
   "cell_type": "code",
   "execution_count": null,
   "metadata": {},
   "outputs": [],
   "source": [
    "# The chip/gun times are inconsistent\n",
    "dfnew['chip_time_corr']=dfnew['chip_time'].apply(lambda x: fix_time(str(x)))\n",
    "dfnew['gun_time_corr']=dfnew['gun_time'].apply(lambda x: fix_time(str(x)))"
   ]
  },
  {
   "cell_type": "code",
   "execution_count": null,
   "metadata": {},
   "outputs": [],
   "source": [
    "# Let's make a new column that takes the min of chip/gun,\n",
    "# make it a float so we can plot later - units = minutes\n",
    "def find_min_time(row):\n",
    "    # There should be a gun-time for everyone, but chip time has been\n",
    "    # set to something large\n",
    "    chip = row['chip_time_corr'].split(':')\n",
    "    gun = row['gun_time_corr'].split(':')\n",
    "    # convert to seconds, compare immediately\n",
    "    chiptime = int(chip[0])*60 + int(chip[1])\n",
    "    guntime  = int(gun[0])*60 + int(gun[1])\n",
    "    time = guntime if (guntime <= chiptime) else chiptime\n",
    "    return float(time)/60.0 # convert back to minutes"
   ]
  },
  {
   "cell_type": "code",
   "execution_count": null,
   "metadata": {},
   "outputs": [],
   "source": [
    "dfnew['min_time'] = dfnew.apply(find_min_time,axis=1)"
   ]
  },
  {
   "cell_type": "code",
   "execution_count": null,
   "metadata": {},
   "outputs": [],
   "source": [
    "#dfnew.loc[dfnew.race_title=='10k','race_title'] = '10K'\n",
    "#dfnew=dfnew[dfnew.race_title == '10K']\n",
    "#norm = 10.0 * 1.0\n",
    "gpx_up = dict(zip(gpxnew.meeting_id, gpxnew.sum_up))\n",
    "gpx_down = dict(zip(gpxnew.meeting_id, gpxnew.sum_down))\n",
    "#gpx_mean = dict(zip(gpxnew.meeting_id, gpxnew['mean']))\n",
    "gpx_sigma = dict(zip(gpxnew.meeting_id, gpxnew.sigma))\n",
    "dfnew['sum_up']=dfnew['meeting_id'].apply(lambda x:   gpx_up[x])\n",
    "dfnew['sum_down']=dfnew['meeting_id'].apply(lambda x: -1.0*gpx_down[x])\n",
    "#dfnew['mean']=dfnew['meeting_id'].apply(lambda x:     gpx_mean[x])\n",
    "dfnew['sigma']=dfnew['meeting_id'].apply(lambda x:    gpx_sigma[x])"
   ]
  },
  {
   "cell_type": "code",
   "execution_count": null,
   "metadata": {},
   "outputs": [],
   "source": [
    "dfnew['diff'] = dfnew['sum_up'] - dfnew['sum_down']"
   ]
  },
  {
   "cell_type": "code",
   "execution_count": null,
   "metadata": {
    "scrolled": true
   },
   "outputs": [],
   "source": [
    "dftemp = dfnew"
   ]
  },
  {
   "cell_type": "code",
   "execution_count": null,
   "metadata": {},
   "outputs": [],
   "source": [
    "#dftemp.head()"
   ]
  },
  {
   "cell_type": "code",
   "execution_count": null,
   "metadata": {},
   "outputs": [],
   "source": [
    "columns2drop = ['chip_time','gun_time','name',\n",
    "                'terrain','race_date','uniqueID',\n",
    "               'chip_time_corr','gun_time_corr', 'sum_down']\n",
    "dfnew = dfnew.drop(columns2drop, axis=1)"
   ]
  },
  {
   "cell_type": "code",
   "execution_count": null,
   "metadata": {},
   "outputs": [],
   "source": [
    "dfnew.to_csv('data_overlaps_with_gpx_cleaned.csv',sep=',')"
   ]
  },
  {
   "cell_type": "code",
   "execution_count": null,
   "metadata": {},
   "outputs": [],
   "source": [
    "temp=dfnew.groupby(['meeting_id','race_title','race_dist',\n",
    "                   'age_group','sex'],as_index=False)['min_time'].median()"
   ]
  },
  {
   "cell_type": "code",
   "execution_count": null,
   "metadata": {},
   "outputs": [],
   "source": [
    "races = list(set(dfnew['race_title'].tolist()))\n",
    "print('%d types of races' % len(races))"
   ]
  },
  {
   "cell_type": "code",
   "execution_count": null,
   "metadata": {},
   "outputs": [],
   "source": [
    "age_order = ['U15','U17','U20','U23','SEN','V35','V40','V45',\n",
    "             'V50','V55','V60','V65','V70','V75','V80','V85']\n",
    "f, axes = plt.subplots(13, 1, figsize=(6,35))\n",
    "plt.subplots_adjust(left=None, bottom=None, right=None, \n",
    "                top=None, wspace=None, hspace=0.65)\n",
    "for i in range(0,13):\n",
    "    sns.barplot(data=temp[temp.race_title == races[i]],\n",
    "                x='age_group',y='min_time', hue='sex', \n",
    "                order=age_order, hue_order=['M','W'], ax=axes[i])\n",
    "    axes[i].set_xlabel('Age Group')\n",
    "    axes[i].set_ylabel('Median time (min)')\n",
    "    axes[i].legend(frameon=False, loc='upper left', prop={'size':8})\n",
    "    axes[i].set_title('Race type: %s' % str(races[i]))\n"
   ]
  },
  {
   "cell_type": "code",
   "execution_count": null,
   "metadata": {
    "scrolled": true
   },
   "outputs": [],
   "source": [
    "plt.scatter(temp['race_dist'], temp['min_time'],color='black')\n",
    "plt.xlabel('Track distance (mi)')\n",
    "plt.ylabel('Median group time (min)')\n",
    "plt.show()"
   ]
  },
  {
   "cell_type": "code",
   "execution_count": null,
   "metadata": {},
   "outputs": [],
   "source": [
    "sigmas=dfnew.groupby(['meeting_id','sigma', 'sum_up','race_title'],as_index=False)['min_time'].median()"
   ]
  },
  {
   "cell_type": "code",
   "execution_count": null,
   "metadata": {},
   "outputs": [],
   "source": [
    "n, bins, patches = plt.hist(sigmas['sigma'], 50, density=True, \n",
    "                            facecolor='g', alpha=0.75)\n",
    "plt.grid(True)\n",
    "plt.xlabel('Standard deviation of course (ft or m)')\n",
    "plt.show()"
   ]
  },
  {
   "cell_type": "code",
   "execution_count": null,
   "metadata": {},
   "outputs": [],
   "source": [
    "race_order= ['1M', '3K', '2M', '5K', '4M',\n",
    "            '5M', '6M', '10K', 'QM', '7M', '10M',\n",
    "            'HM', 'Mar']\n",
    "sns.lmplot(data=sigmas,x='sigma',y='min_time', \n",
    "           hue='race_title', hue_order=race_order,\n",
    "          fit_reg=False, legend=False)\n",
    "plt.legend(frameon=False, loc='upper right', prop={'size':10})\n",
    "plt.xlabel('Course Elevation Std. Dev. (m)')\n",
    "plt.ylabel('Median Finish Time (min)')"
   ]
  },
  {
   "cell_type": "code",
   "execution_count": null,
   "metadata": {},
   "outputs": [],
   "source": [
    "sns.lmplot(data=sigmas,x='sum_up',y='min_time', \n",
    "           hue='race_title', hue_order=race_order,\n",
    "          fit_reg=False, legend=False)\n",
    "plt.legend(frameon=False, ncol=2,loc='top left', prop={'size':10})\n",
    "plt.xlabel('Unnormalized Course Elevation Sum (m)')\n",
    "plt.ylabel('Median Finish Time (min)')"
   ]
  },
  {
   "cell_type": "code",
   "execution_count": null,
   "metadata": {},
   "outputs": [],
   "source": [
    "plt.scatter(sigmas['sigma'], sigmas['min_time'], \n",
    "            color='black')\n",
    "plt.xlabel('Standard deviation of course (ft or m)')\n",
    "plt.ylabel('Averaged group time (min)')\n",
    "#plt.axis([0, 40, 35, 70])"
   ]
  },
  {
   "cell_type": "code",
   "execution_count": null,
   "metadata": {},
   "outputs": [],
   "source": []
  }
 ],
 "metadata": {
  "kernelspec": {
   "display_name": "Python 3",
   "language": "python",
   "name": "python3"
  },
  "language_info": {
   "codemirror_mode": {
    "name": "ipython",
    "version": 3
   },
   "file_extension": ".py",
   "mimetype": "text/x-python",
   "name": "python",
   "nbconvert_exporter": "python",
   "pygments_lexer": "ipython3",
   "version": "3.6.7"
  }
 },
 "nbformat": 4,
 "nbformat_minor": 2
}
