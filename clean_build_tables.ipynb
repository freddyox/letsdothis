{
 "cells": [
  {
   "cell_type": "markdown",
   "metadata": {},
   "source": [
    "## Shrink build_tables_output"
   ]
  },
  {
   "cell_type": "code",
   "execution_count": 1,
   "metadata": {},
   "outputs": [],
   "source": [
    "import pandas as pd\n",
    "import seaborn as sns\n",
    "import matplotlib.pyplot as plt\n",
    "import numpy as np\n",
    "from sklearn import metrics, svm\n",
    "from sklearn.linear_model import LogisticRegression\n",
    "from sklearn import preprocessing\n",
    "from sklearn import utils"
   ]
  },
  {
   "cell_type": "code",
   "execution_count": 2,
   "metadata": {},
   "outputs": [],
   "source": [
    "datadir = '/home/freddy/insight/data/'\n",
    "filename = datadir + 'build_tables_output.csv'"
   ]
  },
  {
   "cell_type": "code",
   "execution_count": 3,
   "metadata": {},
   "outputs": [
    {
     "name": "stderr",
     "output_type": "stream",
     "text": [
      "/home/freddy/.local/lib/python3.6/site-packages/IPython/core/interactiveshell.py:2785: DtypeWarning: Columns (5) have mixed types. Specify dtype option on import or set low_memory=False.\n",
      "  interactivity=interactivity, compiler=compiler, result=result)\n"
     ]
    }
   ],
   "source": [
    "df = pd.read_csv(filename)\n",
    "nrows0 = df.shape[0]"
   ]
  },
  {
   "cell_type": "code",
   "execution_count": 4,
   "metadata": {},
   "outputs": [],
   "source": [
    "df=df[df.terrain != 'Multi']"
   ]
  },
  {
   "cell_type": "code",
   "execution_count": 5,
   "metadata": {},
   "outputs": [],
   "source": [
    "df=df.drop(columns=['Unnamed: 0'], axis=1)"
   ]
  },
  {
   "cell_type": "code",
   "execution_count": 6,
   "metadata": {},
   "outputs": [],
   "source": [
    "cols = ['age_group','name','sex', 'race_title', \n",
    "        'terrain', 'race_date', 'meeting_id']"
   ]
  },
  {
   "cell_type": "code",
   "execution_count": 7,
   "metadata": {},
   "outputs": [],
   "source": [
    "for i in cols:\n",
    "    df = df[pd.notnull(df[i])]"
   ]
  },
  {
   "cell_type": "code",
   "execution_count": 8,
   "metadata": {},
   "outputs": [],
   "source": [
    "# Make it huge b/c I will find min later\n",
    "df['chip_time'].fillna('100:59:59', inplace=True)\n",
    "df['gun_time'].fillna('100:59:59', inplace=True)"
   ]
  },
  {
   "cell_type": "code",
   "execution_count": 9,
   "metadata": {},
   "outputs": [
    {
     "name": "stdout",
     "output_type": "stream",
     "text": [
      "percent lost = 27.459%\n"
     ]
    }
   ],
   "source": [
    "nrows1 = df.shape[0]\n",
    "frac = (1-nrows1/nrows0)*100\n",
    "print('percent lost = %1.3f%%' % frac)"
   ]
  },
  {
   "cell_type": "code",
   "execution_count": 10,
   "metadata": {},
   "outputs": [],
   "source": [
    "def cut_up_url(url):\n",
    "    flag = 'meetingid='\n",
    "    start = url.find(flag)+len(flag) \n",
    "    end   = url.find('&')\n",
    "    substr = url[start:end]\n",
    "    return int(substr)"
   ]
  },
  {
   "cell_type": "code",
   "execution_count": 11,
   "metadata": {},
   "outputs": [],
   "source": [
    "def handle_gpx(filename):\n",
    "    gpx = pd.read_csv(filename, header=0)\n",
    "    gpx['meeting_id'] = gpx['URL'].apply(lambda x: cut_up_url(x))\n",
    "    #gpx.rename(index=str, columns={'race_data':'race_date'})\n",
    "    return gpx\n",
    "#gpx = handle_gpx(datadir + 'gpx_discover.csv')\n",
    "#gpx_IDs = gpx['meeting_id'].tolist()"
   ]
  },
  {
   "cell_type": "code",
   "execution_count": 12,
   "metadata": {},
   "outputs": [],
   "source": [
    "def cleaned_gpx(filename):\n",
    "    gpx = pd.read_csv(filename, header=0)\n",
    "    return gpx"
   ]
  },
  {
   "cell_type": "code",
   "execution_count": 13,
   "metadata": {},
   "outputs": [],
   "source": [
    "gpx = cleaned_gpx(datadir + 'gpx_elevation_map_new.csv')"
   ]
  },
  {
   "cell_type": "code",
   "execution_count": 14,
   "metadata": {},
   "outputs": [
    {
     "name": "stdout",
     "output_type": "stream",
     "text": [
      "Found 105 GPX files with overlapping IDs\n"
     ]
    }
   ],
   "source": [
    "# Make everything unique, and then find the overlap\n",
    "IDs = df['meeting_id'].tolist()\n",
    "gpx_IDs = gpx['meeting_id'].tolist()\n",
    "uniqueIDs = set(IDs)\n",
    "gpx_uniqueIDs = set(gpx_IDs)\n",
    "overlapIDs = list(uniqueIDs & gpx_uniqueIDs)\n",
    "print('Found %d GPX files with overlapping IDs' % len(overlapIDs))"
   ]
  },
  {
   "cell_type": "markdown",
   "metadata": {},
   "source": [
    "## For now, only consider races that have a corresponding GPX file."
   ]
  },
  {
   "cell_type": "code",
   "execution_count": 15,
   "metadata": {},
   "outputs": [],
   "source": [
    "dfnew = df[df['meeting_id'].isin(overlapIDs)]\n",
    "gpxnew = gpx[gpx['meeting_id'].isin(overlapIDs)]"
   ]
  },
  {
   "cell_type": "code",
   "execution_count": 16,
   "metadata": {},
   "outputs": [
    {
     "name": "stderr",
     "output_type": "stream",
     "text": [
      "/usr/lib/python3/dist-packages/pandas/core/generic.py:3643: SettingWithCopyWarning: \n",
      "A value is trying to be set on a copy of a slice from a DataFrame.\n",
      "Try using .loc[row_indexer,col_indexer] = value instead\n",
      "\n",
      "See the caveats in the documentation: http://pandas.pydata.org/pandas-docs/stable/indexing.html#indexing-view-versus-copy\n",
      "  self[name] = value\n"
     ]
    }
   ],
   "source": [
    "dfnew.meeting_id = dfnew.meeting_id.astype(int)\n",
    "dfnew.uniqueID = dfnew.uniqueID.astype(int)"
   ]
  },
  {
   "cell_type": "code",
   "execution_count": 17,
   "metadata": {},
   "outputs": [],
   "source": [
    "def fix_time(t):\n",
    "    parts = t.split(':')\n",
    "    ncolons = t.count(':')\n",
    "    if ncolons == 1:\n",
    "        return t\n",
    "    elif ncolons == 2:\n",
    "        min = int(parts[0])*60 + int(parts[1])\n",
    "        return str(min) + ':' + parts[2]\n",
    "    else:\n",
    "        return '10000:00'"
   ]
  },
  {
   "cell_type": "code",
   "execution_count": 18,
   "metadata": {},
   "outputs": [
    {
     "name": "stderr",
     "output_type": "stream",
     "text": [
      "/home/freddy/.local/lib/python3.6/site-packages/ipykernel_launcher.py:2: SettingWithCopyWarning: \n",
      "A value is trying to be set on a copy of a slice from a DataFrame.\n",
      "Try using .loc[row_indexer,col_indexer] = value instead\n",
      "\n",
      "See the caveats in the documentation: http://pandas.pydata.org/pandas-docs/stable/indexing.html#indexing-view-versus-copy\n",
      "  \n",
      "/home/freddy/.local/lib/python3.6/site-packages/ipykernel_launcher.py:3: SettingWithCopyWarning: \n",
      "A value is trying to be set on a copy of a slice from a DataFrame.\n",
      "Try using .loc[row_indexer,col_indexer] = value instead\n",
      "\n",
      "See the caveats in the documentation: http://pandas.pydata.org/pandas-docs/stable/indexing.html#indexing-view-versus-copy\n",
      "  This is separate from the ipykernel package so we can avoid doing imports until\n"
     ]
    }
   ],
   "source": [
    "# The chip/gun times are inconsistent\n",
    "dfnew['chip_time_corr']=dfnew['chip_time'].apply(lambda x: fix_time(str(x)))\n",
    "dfnew['gun_time_corr']=dfnew['gun_time'].apply(lambda x: fix_time(str(x)))"
   ]
  },
  {
   "cell_type": "code",
   "execution_count": 19,
   "metadata": {},
   "outputs": [],
   "source": [
    "# Let's make a new column that takes the min of chip/gun,\n",
    "# make it a float so we can plot later - units = minutes\n",
    "def find_min_time(row):\n",
    "    # There should be a gun-time for everyone, but chip time has been\n",
    "    # set to something large\n",
    "    chip = row['chip_time_corr'].split(':')\n",
    "    gun = row['gun_time_corr'].split(':')\n",
    "    # convert to seconds, compare immediately\n",
    "    chiptime = int(chip[0])*60 + int(chip[1])\n",
    "    guntime  = int(gun[0])*60 + int(gun[1])\n",
    "    time = guntime if (guntime <= chiptime) else chiptime\n",
    "    return float(time)/60.0"
   ]
  },
  {
   "cell_type": "code",
   "execution_count": 20,
   "metadata": {},
   "outputs": [
    {
     "name": "stderr",
     "output_type": "stream",
     "text": [
      "/home/freddy/.local/lib/python3.6/site-packages/ipykernel_launcher.py:1: SettingWithCopyWarning: \n",
      "A value is trying to be set on a copy of a slice from a DataFrame.\n",
      "Try using .loc[row_indexer,col_indexer] = value instead\n",
      "\n",
      "See the caveats in the documentation: http://pandas.pydata.org/pandas-docs/stable/indexing.html#indexing-view-versus-copy\n",
      "  \"\"\"Entry point for launching an IPython kernel.\n"
     ]
    }
   ],
   "source": [
    "dfnew['min_time'] = dfnew.apply(find_min_time,axis=1)"
   ]
  },
  {
   "cell_type": "code",
   "execution_count": 21,
   "metadata": {},
   "outputs": [],
   "source": [
    "#dfnew.to_csv('data_overlaps_with_gpx.csv',sep=',')"
   ]
  },
  {
   "cell_type": "code",
   "execution_count": 30,
   "metadata": {},
   "outputs": [],
   "source": [
    "dfnew.loc[dfnew.race_title=='10k','race_title'] = '10K'\n",
    "dfnew=dfnew[dfnew.race_title == '10K']\n",
    "norm = 10.0 * 1.0\n",
    "gpx_up = dict(zip(gpxnew.meeting_id, gpxnew.sum_up))\n",
    "gpx_down = dict(zip(gpxnew.meeting_id, gpxnew.sum_down))\n",
    "gpx_mean = dict(zip(gpxnew.meeting_id, gpxnew['mean']))\n",
    "gpx_sigma = dict(zip(gpxnew.meeting_id, gpxnew.sigma))\n",
    "dfnew['sum_up']=dfnew['meeting_id'].apply(lambda x:   gpx_up[x]/norm)\n",
    "dfnew['sum_down']=dfnew['meeting_id'].apply(lambda x: gpx_down[x]/norm)\n",
    "dfnew['mean']=dfnew['meeting_id'].apply(lambda x:     gpx_mean[x])\n",
    "dfnew['sigma']=dfnew['meeting_id'].apply(lambda x:    gpx_sigma[x])"
   ]
  },
  {
   "cell_type": "code",
   "execution_count": 43,
   "metadata": {},
   "outputs": [],
   "source": [
    "dfnew['diff'] = dfnew['sum_up'] - dfnew['sum_down']"
   ]
  },
  {
   "cell_type": "code",
   "execution_count": 31,
   "metadata": {
    "scrolled": true
   },
   "outputs": [],
   "source": [
    "dftemp = dfnew\n",
    "#races = dftemp['race_location'].tolist()\n",
    "#uniqueraces = set(races)"
   ]
  },
  {
   "cell_type": "code",
   "execution_count": 32,
   "metadata": {},
   "outputs": [],
   "source": [
    "columns2drop = ['chip_time','gun_time','name','race_title',\n",
    "                'terrain','race_date','race_location','uniqueID',\n",
    "               'chip_time_corr','gun_time_corr']\n",
    "dfnew = dfnew.drop(columns2drop, axis=1)"
   ]
  },
  {
   "cell_type": "code",
   "execution_count": 33,
   "metadata": {},
   "outputs": [],
   "source": [
    "sigmas=dfnew.groupby(['meeting_id','mean','sigma'],as_index=False)['min_time'].mean()"
   ]
  },
  {
   "cell_type": "code",
   "execution_count": 34,
   "metadata": {},
   "outputs": [
    {
     "data": {
      "image/png": "[encoded data removed]",
      "text/plain": [
       "<matplotlib.figure.Figure at 0x7f1735678128>"
      ]
     },
     "metadata": {},
     "output_type": "display_data"
    }
   ],
   "source": [
    "n, bins, patches = plt.hist(sigmas['sigma'], 50, density=True, \n",
    "                            facecolor='g', alpha=0.75)\n",
    "plt.grid(True)\n",
    "plt.xlabel('Standard deviation of course (ft or m)')\n",
    "plt.show()"
   ]
  },
  {
   "cell_type": "code",
   "execution_count": 35,
   "metadata": {},
   "outputs": [
    {
     "data": {
      "text/plain": [
       "[0, 40, 35, 70]"
      ]
     },
     "execution_count": 35,
     "metadata": {},
     "output_type": "execute_result"
    },
    {
     "data": {
      "image/png": "[encoded data removed]",
      "text/plain": [
       "<matplotlib.figure.Figure at 0x7f1737a87e80>"
      ]
     },
     "metadata": {},
     "output_type": "display_data"
    }
   ],
   "source": [
    "plt.scatter(sigmas['sigma'], sigmas['min_time'], \n",
    "            color='black')\n",
    "plt.xlabel('Standard deviation of course (ft or m)')\n",
    "plt.ylabel('Averaged group time (min)')\n",
    "plt.axis([0, 40, 35, 70])"
   ]
  },
  {
   "cell_type": "code",
   "execution_count": 38,
   "metadata": {},
   "outputs": [
    {
     "data": {
      "text/plain": [
       "Text(0,0.5,'Averaged group time (min)')"
      ]
     },
     "execution_count": 38,
     "metadata": {},
     "output_type": "execute_result"
    },
    {
     "data": {
      "image/png": "[encoded data removed]",
      "text/plain": [
       "<matplotlib.figure.Figure at 0x7f1736e51a58>"
      ]
     },
     "metadata": {},
     "output_type": "display_data"
    }
   ],
   "source": [
    "plt.scatter(sigmas['mean'], sigmas['min_time'], \n",
    "            color='black')\n",
    "plt.xlabel('Normalized mean elevation of course (ft or m)')\n",
    "plt.ylabel('Averaged group time (min)')"
   ]
  },
  {
   "cell_type": "code",
   "execution_count": 39,
   "metadata": {},
   "outputs": [],
   "source": [
    "dftimes=dfnew.groupby(['meeting_id','age_group','sex'],as_index=False)['min_time'].mean()"
   ]
  },
  {
   "cell_type": "code",
   "execution_count": 40,
   "metadata": {},
   "outputs": [
    {
     "data": {
      "image/png": "[encoded data removed]",
      "text/plain": [
       "<matplotlib.figure.Figure at 0x7f1740f1cba8>"
      ]
     },
     "metadata": {},
     "output_type": "display_data"
    }
   ],
   "source": [
    "xorder = ['U15','U17','U20','U23','SEN','V35','V40','V45','V50','V55',\n",
    "        'V60','V65','V70','V75','V80','V85']\n",
    "ax=plt.gca()\n",
    "sns.stripplot(dftimes['age_group'], dftimes['min_time'], \n",
    "              order=xorder,jitter=True)\n",
    "ax.set_xlabel('Age category')\n",
    "ax.set_ylabel('Median time (min)')\n",
    "plt.show()"
   ]
  },
  {
   "cell_type": "code",
   "execution_count": 44,
   "metadata": {},
   "outputs": [],
   "source": [
    "df_sen = dfnew.loc[(dfnew['age_group']=='SEN') & (dfnew['sex']=='W')]"
   ]
  },
  {
   "cell_type": "code",
   "execution_count": 45,
   "metadata": {},
   "outputs": [],
   "source": [
    "time_up=df_sen.groupby(['meeting_id','diff','sum_up','sum_down'],as_index=False)['min_time'].mean()"
   ]
  },
  {
   "cell_type": "code",
   "execution_count": 46,
   "metadata": {},
   "outputs": [
    {
     "data": {
      "text/plain": [
       "<matplotlib.collections.PathCollection at 0x7f17376effd0>"
      ]
     },
     "execution_count": 46,
     "metadata": {},
     "output_type": "execute_result"
    },
    {
     "data": {
      "image/png": "[encoded data removed]",
      "text/plain": [
       "<matplotlib.figure.Figure at 0x7f173800f358>"
      ]
     },
     "metadata": {},
     "output_type": "display_data"
    }
   ],
   "source": [
    "fig, axes = plt.subplots(nrows=1, ncols=1, figsize=(8,6))\n",
    "ax = plt.gca()\n",
    "axes.scatter(time_up['min_time'], time_up['sum_up'], color='black')"
   ]
  },
  {
   "cell_type": "code",
   "execution_count": 48,
   "metadata": {},
   "outputs": [],
   "source": [
    "Y = []\n",
    "for index,row in dfnew.iterrows():\n",
    "    sex  = row.sex\n",
    "    age  = row.age_group\n",
    "    time = row.min_time \n",
    "    ID   = row.meeting_id\n",
    "    temp = dftimes.loc[(dftimes['age_group']==age) & \n",
    "                          (dftimes['sex']==sex) &\n",
    "                          (dftimes['meeting_id'] == ID)]\n",
    "    avg_time = (temp.min_time).item()\n",
    "    #print(avg_time.item(), sex, age, time, ID)\n",
    "    Y.append(0 if (time<=avg_time) else 1)\n",
    "    #Y.append(time-avg_time)"
   ]
  },
  {
   "cell_type": "code",
   "execution_count": 49,
   "metadata": {},
   "outputs": [],
   "source": [
    "X = dfnew\n",
    "X = X.drop(['position','meeting_id'], axis=1)"
   ]
  },
  {
   "cell_type": "code",
   "execution_count": 50,
   "metadata": {},
   "outputs": [],
   "source": [
    "age_map = {'U15':0,'U17':0,'U20':0,'U23':0,'SEN':1,'V35':2,'V40':3,\n",
    "           'V45':3,'V50':4,'V55':4,'V60':5,'V65':5,\n",
    "           'V70':6,'V75':6,'V80':7,'V85':7}\n",
    "for xrow in [X]:\n",
    "    xrow['sex'] = xrow['sex'].map( {'W': 1, 'M': 0} ).astype(int)\n",
    "    xrow['age_group'] = xrow['age_group'].map( age_map )"
   ]
  },
  {
   "cell_type": "code",
   "execution_count": 51,
   "metadata": {},
   "outputs": [
    {
     "name": "stderr",
     "output_type": "stream",
     "text": [
      "/home/freddy/.local/lib/python3.6/site-packages/sklearn/linear_model/logistic.py:432: FutureWarning: Default solver will be changed to 'lbfgs' in 0.22. Specify a solver to silence this warning.\n",
      "  FutureWarning)\n"
     ]
    },
    {
     "data": {
      "text/plain": [
       "LogisticRegression(C=1.0, class_weight=None, dual=False, fit_intercept=True,\n",
       "          intercept_scaling=1, max_iter=100, multi_class='warn',\n",
       "          n_jobs=None, penalty='l2', random_state=None, solver='warn',\n",
       "          tol=0.0001, verbose=0, warm_start=False)"
      ]
     },
     "execution_count": 51,
     "metadata": {},
     "output_type": "execute_result"
    }
   ],
   "source": [
    "clf = LogisticRegression()\n",
    "clf.fit(X, Y)"
   ]
  },
  {
   "cell_type": "markdown",
   "metadata": {},
   "source": [
    "## This is what I get when I use y=1 and 0\n",
    "coefficients = pd.concat([pd.DataFrame(X.columns),pd.DataFrame(np.transpose(logreg.coef_))], axis = 1)\n",
    "print(coefficients)\n",
    "           0         0\n",
    "0  age_group -0.432731\n",
    "1        sex  2.718308\n",
    "2   min_time  0.315732\n",
    "3     sum_up  0.053070\n",
    "4   sum_down -0.114251\n",
    "5       diff  0.167322\n"
   ]
  },
  {
   "cell_type": "code",
   "execution_count": 52,
   "metadata": {},
   "outputs": [
    {
     "name": "stdout",
     "output_type": "stream",
     "text": [
      "           0         0\n",
      "0  age_group -0.488673\n",
      "1        sex -2.983713\n",
      "2   min_time  0.353489\n",
      "3     sum_up  0.232592\n",
      "4   sum_down  0.259905\n",
      "5      sigma -0.006086\n",
      "6       mean  0.012074\n",
      "7       diff -0.027313\n"
     ]
    }
   ],
   "source": [
    "beta = pd.concat([pd.DataFrame(X.columns),pd.DataFrame(np.transpose(clf.coef_))], axis = 1)\n",
    "print(beta)"
   ]
  },
  {
   "cell_type": "code",
   "execution_count": 53,
   "metadata": {},
   "outputs": [],
   "source": [
    "d = []\n",
    "for index, row in X.iterrows():\n",
    "    rowidx=0\n",
    "    for i in row:\n",
    "        #print(i,beta.values[rowidx][1])\n",
    "        dtemp = i*beta.values[rowidx][1]\n",
    "        rowidx+=1\n",
    "        d.append(dtemp)"
   ]
  },
  {
   "cell_type": "code",
   "execution_count": 61,
   "metadata": {},
   "outputs": [
    {
     "data": {
      "image/png": "[encoded data removed]",
      "text/plain": [
       "<matplotlib.figure.Figure at 0x7f173cbb3390>"
      ]
     },
     "metadata": {},
     "output_type": "display_data"
    }
   ],
   "source": [
    "n, bins, patches = plt.hist(d, 50, density=True, \n",
    "                            facecolor='g', alpha=0.75)\n",
    "plt.axis([5, 35, 0, 0.02])\n",
    "plt.grid(True)\n",
    "plt.xlabel('Beta.dot(X) for each data point')\n",
    "plt.show()"
   ]
  },
  {
   "cell_type": "code",
   "execution_count": null,
   "metadata": {},
   "outputs": [],
   "source": []
  }
 ],
 "metadata": {
  "kernelspec": {
   "display_name": "Python 3",
   "language": "python",
   "name": "python3"
  },
  "language_info": {
   "codemirror_mode": {
    "name": "ipython",
    "version": 3
   },
   "file_extension": ".py",
   "mimetype": "text/x-python",
   "name": "python",
   "nbconvert_exporter": "python",
   "pygments_lexer": "ipython3",
   "version": "3.6.7"
  }
 },
 "nbformat": 4,
 "nbformat_minor": 2
}
