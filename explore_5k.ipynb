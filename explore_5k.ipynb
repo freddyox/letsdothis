{
 "cells": [
  {
   "cell_type": "code",
   "execution_count": 1,
   "metadata": {},
   "outputs": [],
   "source": [
    "import pandas as pd"
   ]
  },
  {
   "cell_type": "code",
   "execution_count": 6,
   "metadata": {},
   "outputs": [],
   "source": [
    "filename = '5Konly_cleaned.csv'"
   ]
  },
  {
   "cell_type": "code",
   "execution_count": 7,
   "metadata": {},
   "outputs": [],
   "source": [
    "df = pd.read_csv(filename, header=0)"
   ]
  },
  {
   "cell_type": "code",
   "execution_count": 13,
   "metadata": {},
   "outputs": [],
   "source": [
    "df = df.rename(index=str, columns={'Unnamed: 0.1':'position'})"
   ]
  },
  {
   "cell_type": "code",
   "execution_count": 16,
   "metadata": {},
   "outputs": [],
   "source": [
    "df = df.drop(columns=['Unnamed: 0'])"
   ]
  },
  {
   "cell_type": "code",
   "execution_count": 18,
   "metadata": {},
   "outputs": [
    {
     "data": {
      "text/html": [
       "<div>\n",
       "<style scoped>\n",
       "    .dataframe tbody tr th:only-of-type {\n",
       "        vertical-align: middle;\n",
       "    }\n",
       "\n",
       "    .dataframe tbody tr th {\n",
       "        vertical-align: top;\n",
       "    }\n",
       "\n",
       "    .dataframe thead th {\n",
       "        text-align: right;\n",
       "    }\n",
       "</style>\n",
       "<table border=\"1\" class=\"dataframe\">\n",
       "  <thead>\n",
       "    <tr style=\"text-align: right;\">\n",
       "      <th></th>\n",
       "      <th>position</th>\n",
       "      <th>age_group</th>\n",
       "      <th>chip_time</th>\n",
       "      <th>gun_time</th>\n",
       "      <th>name</th>\n",
       "      <th>position</th>\n",
       "      <th>race_title</th>\n",
       "      <th>sex</th>\n",
       "      <th>terrain</th>\n",
       "      <th>race_data</th>\n",
       "      <th>race_location</th>\n",
       "      <th>meeting_id</th>\n",
       "      <th>uniqueID</th>\n",
       "    </tr>\n",
       "  </thead>\n",
       "  <tbody>\n",
       "    <tr>\n",
       "      <th>0</th>\n",
       "      <td>0</td>\n",
       "      <td>SEN</td>\n",
       "      <td>14:44</td>\n",
       "      <td>14:44</td>\n",
       "      <td>Conor Bradley</td>\n",
       "      <td>1.0</td>\n",
       "      <td>5K</td>\n",
       "      <td>M</td>\n",
       "      <td>Road</td>\n",
       "      <td>29 Mar 17</td>\n",
       "      <td>Belfast</td>\n",
       "      <td>199660</td>\n",
       "      <td>1</td>\n",
       "    </tr>\n",
       "    <tr>\n",
       "      <th>1</th>\n",
       "      <td>1</td>\n",
       "      <td>SEN</td>\n",
       "      <td>14:48</td>\n",
       "      <td>14:48</td>\n",
       "      <td>Daniel Mooney</td>\n",
       "      <td>2.0</td>\n",
       "      <td>5K</td>\n",
       "      <td>M</td>\n",
       "      <td>Road</td>\n",
       "      <td>29 Mar 17</td>\n",
       "      <td>Belfast</td>\n",
       "      <td>199660</td>\n",
       "      <td>1</td>\n",
       "    </tr>\n",
       "    <tr>\n",
       "      <th>2</th>\n",
       "      <td>2</td>\n",
       "      <td>U23</td>\n",
       "      <td>14:48</td>\n",
       "      <td>14:48</td>\n",
       "      <td>Ben Branagh</td>\n",
       "      <td>3.0</td>\n",
       "      <td>5K</td>\n",
       "      <td>M</td>\n",
       "      <td>Road</td>\n",
       "      <td>29 Mar 17</td>\n",
       "      <td>Belfast</td>\n",
       "      <td>199660</td>\n",
       "      <td>1</td>\n",
       "    </tr>\n",
       "    <tr>\n",
       "      <th>3</th>\n",
       "      <td>3</td>\n",
       "      <td>U23</td>\n",
       "      <td>14:51</td>\n",
       "      <td>14:51</td>\n",
       "      <td>Neil Johnston</td>\n",
       "      <td>4.0</td>\n",
       "      <td>5K</td>\n",
       "      <td>M</td>\n",
       "      <td>Road</td>\n",
       "      <td>29 Mar 17</td>\n",
       "      <td>Belfast</td>\n",
       "      <td>199660</td>\n",
       "      <td>1</td>\n",
       "    </tr>\n",
       "    <tr>\n",
       "      <th>4</th>\n",
       "      <td>4</td>\n",
       "      <td>SEN</td>\n",
       "      <td>15:06</td>\n",
       "      <td>15:06</td>\n",
       "      <td>Christopher Madden</td>\n",
       "      <td>5.0</td>\n",
       "      <td>5K</td>\n",
       "      <td>M</td>\n",
       "      <td>Road</td>\n",
       "      <td>29 Mar 17</td>\n",
       "      <td>Belfast</td>\n",
       "      <td>199660</td>\n",
       "      <td>1</td>\n",
       "    </tr>\n",
       "  </tbody>\n",
       "</table>\n",
       "</div>"
      ],
      "text/plain": [
       "   position age_group chip_time gun_time                name  position  \\\n",
       "0         0       SEN     14:44    14:44       Conor Bradley       1.0   \n",
       "1         1       SEN     14:48    14:48       Daniel Mooney       2.0   \n",
       "2         2       U23     14:48    14:48         Ben Branagh       3.0   \n",
       "3         3       U23     14:51    14:51       Neil Johnston       4.0   \n",
       "4         4       SEN     15:06    15:06  Christopher Madden       5.0   \n",
       "\n",
       "  race_title sex terrain  race_data race_location  meeting_id  uniqueID  \n",
       "0         5K   M    Road  29 Mar 17       Belfast      199660         1  \n",
       "1         5K   M    Road  29 Mar 17       Belfast      199660         1  \n",
       "2         5K   M    Road  29 Mar 17       Belfast      199660         1  \n",
       "3         5K   M    Road  29 Mar 17       Belfast      199660         1  \n",
       "4         5K   M    Road  29 Mar 17       Belfast      199660         1  "
      ]
     },
     "execution_count": 18,
     "metadata": {},
     "output_type": "execute_result"
    }
   ],
   "source": [
    "df.head()"
   ]
  },
  {
   "cell_type": "code",
   "execution_count": 21,
   "metadata": {},
   "outputs": [],
   "source": [
    "IDs = df['meeting_id'].tolist()\n",
    "uniqueIDs = set(IDs)"
   ]
  },
  {
   "cell_type": "code",
   "execution_count": 25,
   "metadata": {},
   "outputs": [],
   "source": [
    "gpx_data = pd.read_csv('gpx_discover.csv',header=0)"
   ]
  },
  {
   "cell_type": "code",
   "execution_count": 28,
   "metadata": {},
   "outputs": [
    {
     "data": {
      "text/plain": [
       "Index(['URL', 'Event name', 'Race name', 'GPX file'], dtype='object')"
      ]
     },
     "execution_count": 28,
     "metadata": {},
     "output_type": "execute_result"
    }
   ],
   "source": [
    "gpx_data.columns"
   ]
  },
  {
   "cell_type": "code",
   "execution_count": 26,
   "metadata": {},
   "outputs": [
    {
     "data": {
      "text/html": [
       "<div>\n",
       "<style scoped>\n",
       "    .dataframe tbody tr th:only-of-type {\n",
       "        vertical-align: middle;\n",
       "    }\n",
       "\n",
       "    .dataframe tbody tr th {\n",
       "        vertical-align: top;\n",
       "    }\n",
       "\n",
       "    .dataframe thead th {\n",
       "        text-align: right;\n",
       "    }\n",
       "</style>\n",
       "<table border=\"1\" class=\"dataframe\">\n",
       "  <thead>\n",
       "    <tr style=\"text-align: right;\">\n",
       "      <th></th>\n",
       "      <th>URL</th>\n",
       "      <th>Event name</th>\n",
       "      <th>Race name</th>\n",
       "      <th>GPX file</th>\n",
       "    </tr>\n",
       "  </thead>\n",
       "  <tbody>\n",
       "    <tr>\n",
       "      <th>0</th>\n",
       "      <td>https://www.runbritainrankings.com/results/res...</td>\n",
       "      <td>Leeds &amp; Liverpool Canal Christmas Cracker (Day 1)</td>\n",
       "      <td>Half_Marathon</td>\n",
       "      <td>Leeds_Liverpool_Christmas_Cracker.gpx</td>\n",
       "    </tr>\n",
       "    <tr>\n",
       "      <th>1</th>\n",
       "      <td>https://www.runbritainrankings.com/results/res...</td>\n",
       "      <td>Leeds &amp; Liverpool Canal Christmas Cracker (Day 1)</td>\n",
       "      <td>Marathon</td>\n",
       "      <td>Kirkstall_Christmas_Cracker_Marathon.gpx</td>\n",
       "    </tr>\n",
       "    <tr>\n",
       "      <th>2</th>\n",
       "      <td>https://www.runbritainrankings.com/results/res...</td>\n",
       "      <td>Leeds &amp; Liverpool Canal Christmas Cracker (Day 1)</td>\n",
       "      <td>5K</td>\n",
       "      <td>NO RESULT</td>\n",
       "    </tr>\n",
       "    <tr>\n",
       "      <th>3</th>\n",
       "      <td>https://www.runbritainrankings.com/results/res...</td>\n",
       "      <td>Leeds &amp; Liverpool Canal Christmas Cracker (Day 1)</td>\n",
       "      <td>10K</td>\n",
       "      <td>NO RESULT</td>\n",
       "    </tr>\n",
       "    <tr>\n",
       "      <th>4</th>\n",
       "      <td>https://www.runbritainrankings.com/results/res...</td>\n",
       "      <td>Draycote Water Winter 10K Series</td>\n",
       "      <td>10k</td>\n",
       "      <td>Draycote_Water_10k_shite_If_you_hear_me_talkin...</td>\n",
       "    </tr>\n",
       "  </tbody>\n",
       "</table>\n",
       "</div>"
      ],
      "text/plain": [
       "                                                 URL  \\\n",
       "0  https://www.runbritainrankings.com/results/res...   \n",
       "1  https://www.runbritainrankings.com/results/res...   \n",
       "2  https://www.runbritainrankings.com/results/res...   \n",
       "3  https://www.runbritainrankings.com/results/res...   \n",
       "4  https://www.runbritainrankings.com/results/res...   \n",
       "\n",
       "                                          Event name      Race name  \\\n",
       "0  Leeds & Liverpool Canal Christmas Cracker (Day 1)  Half_Marathon   \n",
       "1  Leeds & Liverpool Canal Christmas Cracker (Day 1)       Marathon   \n",
       "2  Leeds & Liverpool Canal Christmas Cracker (Day 1)             5K   \n",
       "3  Leeds & Liverpool Canal Christmas Cracker (Day 1)            10K   \n",
       "4                   Draycote Water Winter 10K Series            10k   \n",
       "\n",
       "                                            GPX file  \n",
       "0              Leeds_Liverpool_Christmas_Cracker.gpx  \n",
       "1           Kirkstall_Christmas_Cracker_Marathon.gpx  \n",
       "2                                          NO RESULT  \n",
       "3                                          NO RESULT  \n",
       "4  Draycote_Water_10k_shite_If_you_hear_me_talkin...  "
      ]
     },
     "execution_count": 26,
     "metadata": {},
     "output_type": "execute_result"
    }
   ],
   "source": [
    "gpx_data.head()"
   ]
  },
  {
   "cell_type": "code",
   "execution_count": 41,
   "metadata": {},
   "outputs": [],
   "source": [
    "def cut_up_url(url):\n",
    "    flag = 'meetingid='\n",
    "    start = url.find(flag)+len(flag) \n",
    "    end   = url.find('&')\n",
    "    substr = url[start:end]\n",
    "    return substr"
   ]
  },
  {
   "cell_type": "code",
   "execution_count": 42,
   "metadata": {},
   "outputs": [],
   "source": [
    "gpx_data['meeting_id'] = gpx_data['URL'].apply(lambda x: cut_up_url(x))"
   ]
  },
  {
   "cell_type": "code",
   "execution_count": 53,
   "metadata": {},
   "outputs": [],
   "source": [
    "gpx_data.loc[gpx_data['Race name']=='10k','Race name'] = '10K'\n",
    "gpx_data.loc[gpx_data['Race name']=='5k','Race name'] = '5K'"
   ]
  },
  {
   "cell_type": "code",
   "execution_count": 57,
   "metadata": {},
   "outputs": [],
   "source": [
    "fivek = gpx_data[gpx_data['Race name']=='5K']"
   ]
  },
  {
   "cell_type": "code",
   "execution_count": 58,
   "metadata": {},
   "outputs": [
    {
     "data": {
      "text/plain": [
       "['276070',\n",
       " '275005',\n",
       " '271798',\n",
       " '270756',\n",
       " '270752',\n",
       " '268625',\n",
       " '268550',\n",
       " '268472',\n",
       " '268470',\n",
       " '268468',\n",
       " '267415',\n",
       " '267407',\n",
       " '266394',\n",
       " '266388',\n",
       " '266387',\n",
       " '265373',\n",
       " '265368',\n",
       " '265343',\n",
       " '265339',\n",
       " '265276',\n",
       " '264275',\n",
       " '264178',\n",
       " '264163',\n",
       " '264160',\n",
       " '264154',\n",
       " '264097',\n",
       " '260990',\n",
       " '260989',\n",
       " '260874',\n",
       " '260873',\n",
       " '260870',\n",
       " '260869',\n",
       " '257771',\n",
       " '257770',\n",
       " '256487',\n",
       " '250088',\n",
       " '249490',\n",
       " '248771',\n",
       " '248770',\n",
       " '236236',\n",
       " '233893',\n",
       " '230649',\n",
       " '226100',\n",
       " '226057']"
      ]
     },
     "execution_count": 58,
     "metadata": {},
     "output_type": "execute_result"
    }
   ],
   "source": [
    "gpx_IDs = fivek['meeting_id'].tolist()\n",
    "gpxuniqueIDs = set(gpx_IDs)\n",
    "sorted(gpxuniqueIDs, reverse=True)"
   ]
  },
  {
   "cell_type": "code",
   "execution_count": null,
   "metadata": {},
   "outputs": [],
   "source": []
  }
 ],
 "metadata": {
  "kernelspec": {
   "display_name": "Python 3",
   "language": "python",
   "name": "python3"
  },
  "language_info": {
   "codemirror_mode": {
    "name": "ipython",
    "version": 3
   },
   "file_extension": ".py",
   "mimetype": "text/x-python",
   "name": "python",
   "nbconvert_exporter": "python",
   "pygments_lexer": "ipython3",
   "version": "3.6.7"
  }
 },
 "nbformat": 4,
 "nbformat_minor": 2
}
