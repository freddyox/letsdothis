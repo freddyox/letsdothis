{
 "cells": [
  {
   "cell_type": "markdown",
   "metadata": {},
   "source": [
    "# Analysis\n",
    "### This code analyzes tables with the following removed:\n",
    "* **Multi** terrain type\n",
    "* Any row that has null entries which was a consequence of scraping thousands of webpages with sometimes different table structures; this killed about 27% of the scraped data\n",
    "* Chip time and gun time have been combined to form a minimum time in mins\n",
    "* Deleted **ALL** races without the corresponding GPX file therefore this is the cross-referenced output\n",
    "* All GPX information has been added to tables, e.g. elevation and sigma"
   ]
  },
  {
   "cell_type": "code",
   "execution_count": 1,
   "metadata": {},
   "outputs": [],
   "source": [
    "import pandas as pd\n",
    "import numpy as np\n",
    "import seaborn as sns\n",
    "import matplotlib.pyplot as plt\n",
    "import matplotlib.mlab as mlab\n",
    "from sklearn import metrics, svm\n",
    "from sklearn.linear_model import LogisticRegression\n",
    "from sklearn import preprocessing\n",
    "from sklearn import utils\n",
    "import warnings\n",
    "warnings.filterwarnings('ignore')"
   ]
  },
  {
   "cell_type": "code",
   "execution_count": 2,
   "metadata": {},
   "outputs": [
    {
     "name": "stdout",
     "output_type": "stream",
     "text": [
      "rows, cols = 31192, 11\n"
     ]
    }
   ],
   "source": [
    "datadir = '/home/freddy/insight/data/'\n",
    "filename = datadir + 'data_overlaps_with_gpx_cleaned.csv'\n",
    "df = pd.read_csv(filename)\n",
    "print('rows, cols = {0}, {1}'.format(df.shape[0], df.shape[1]))\n",
    "df=df.drop(columns=['Unnamed: 0'], axis=1)"
   ]
  },
  {
   "cell_type": "code",
   "execution_count": 3,
   "metadata": {},
   "outputs": [
    {
     "data": {
      "text/html": [
       "<div>\n",
       "<style scoped>\n",
       "    .dataframe tbody tr th:only-of-type {\n",
       "        vertical-align: middle;\n",
       "    }\n",
       "\n",
       "    .dataframe tbody tr th {\n",
       "        vertical-align: top;\n",
       "    }\n",
       "\n",
       "    .dataframe thead th {\n",
       "        text-align: right;\n",
       "    }\n",
       "</style>\n",
       "<table border=\"1\" class=\"dataframe\">\n",
       "  <thead>\n",
       "    <tr style=\"text-align: right;\">\n",
       "      <th></th>\n",
       "      <th>age_group</th>\n",
       "      <th>position</th>\n",
       "      <th>race_title</th>\n",
       "      <th>sex</th>\n",
       "      <th>meeting_id</th>\n",
       "      <th>race_dist</th>\n",
       "      <th>min_time</th>\n",
       "      <th>sum_up</th>\n",
       "      <th>sigma</th>\n",
       "      <th>diff</th>\n",
       "    </tr>\n",
       "  </thead>\n",
       "  <tbody>\n",
       "    <tr>\n",
       "      <th>0</th>\n",
       "      <td>U23</td>\n",
       "      <td>1.0</td>\n",
       "      <td>5M</td>\n",
       "      <td>M</td>\n",
       "      <td>257748</td>\n",
       "      <td>5.0</td>\n",
       "      <td>25.250000</td>\n",
       "      <td>51.8</td>\n",
       "      <td>9.01</td>\n",
       "      <td>-0.6</td>\n",
       "    </tr>\n",
       "    <tr>\n",
       "      <th>1</th>\n",
       "      <td>U23</td>\n",
       "      <td>2.0</td>\n",
       "      <td>5M</td>\n",
       "      <td>M</td>\n",
       "      <td>257748</td>\n",
       "      <td>5.0</td>\n",
       "      <td>25.450000</td>\n",
       "      <td>51.8</td>\n",
       "      <td>9.01</td>\n",
       "      <td>-0.6</td>\n",
       "    </tr>\n",
       "    <tr>\n",
       "      <th>2</th>\n",
       "      <td>SEN</td>\n",
       "      <td>3.0</td>\n",
       "      <td>5M</td>\n",
       "      <td>M</td>\n",
       "      <td>257748</td>\n",
       "      <td>5.0</td>\n",
       "      <td>25.550000</td>\n",
       "      <td>51.8</td>\n",
       "      <td>9.01</td>\n",
       "      <td>-0.6</td>\n",
       "    </tr>\n",
       "    <tr>\n",
       "      <th>3</th>\n",
       "      <td>SEN</td>\n",
       "      <td>4.0</td>\n",
       "      <td>5M</td>\n",
       "      <td>M</td>\n",
       "      <td>257748</td>\n",
       "      <td>5.0</td>\n",
       "      <td>25.733333</td>\n",
       "      <td>51.8</td>\n",
       "      <td>9.01</td>\n",
       "      <td>-0.6</td>\n",
       "    </tr>\n",
       "    <tr>\n",
       "      <th>4</th>\n",
       "      <td>V40</td>\n",
       "      <td>5.0</td>\n",
       "      <td>5M</td>\n",
       "      <td>M</td>\n",
       "      <td>257748</td>\n",
       "      <td>5.0</td>\n",
       "      <td>25.900000</td>\n",
       "      <td>51.8</td>\n",
       "      <td>9.01</td>\n",
       "      <td>-0.6</td>\n",
       "    </tr>\n",
       "  </tbody>\n",
       "</table>\n",
       "</div>"
      ],
      "text/plain": [
       "  age_group  position race_title sex  meeting_id  race_dist   min_time  \\\n",
       "0       U23       1.0         5M   M      257748        5.0  25.250000   \n",
       "1       U23       2.0         5M   M      257748        5.0  25.450000   \n",
       "2       SEN       3.0         5M   M      257748        5.0  25.550000   \n",
       "3       SEN       4.0         5M   M      257748        5.0  25.733333   \n",
       "4       V40       5.0         5M   M      257748        5.0  25.900000   \n",
       "\n",
       "   sum_up  sigma  diff  \n",
       "0    51.8   9.01  -0.6  \n",
       "1    51.8   9.01  -0.6  \n",
       "2    51.8   9.01  -0.6  \n",
       "3    51.8   9.01  -0.6  \n",
       "4    51.8   9.01  -0.6  "
      ]
     },
     "execution_count": 3,
     "metadata": {},
     "output_type": "execute_result"
    }
   ],
   "source": [
    "df.head()"
   ]
  },
  {
   "cell_type": "code",
   "execution_count": 4,
   "metadata": {},
   "outputs": [],
   "source": [
    "# Important maps\n",
    "conversion_map = {'1M':1.0, '3K':1.86, '2M':2.0, '5K':3.1, '4M':4.0,\n",
    "                 '5M':5.0, '6M':6.0, '10K':6.2, 'QM':6.55, '7M':7.0,\n",
    "                 '10M':10.0, 'HM':13.1, 'Mar':26.2}\n",
    "race_order= ['1M', '3K', '2M', '5K', '4M','5M', '6M', '10K',\n",
    "             'QM', '7M', '10M', 'HM', 'Mar']\n",
    "age_order = ['U15','U17','U20','U23','SEN','V35','V40','V45',\n",
    "             'V50','V55','V60','V65','V70','V75','V80','V85']\n",
    "age_map = {'U15':0,'U17':0,'U20':0,'U23':0,'SEN':1,'V35':2,'V40':3,\n",
    "           'V45':3,'V50':4,'V55':4,'V60':5,'V65':5,\n",
    "           'V70':6,'V75':6,'V80':7,'V85':7}\n",
    "dist_map = {'1M':1, '3K':2, '2M':3, '5K':4, '4M':5,\n",
    "            '5M':6, '6M':7, '10K':8, 'QM':9, '7M':10,\n",
    "            '10M':11, 'HM':12, 'Mar':13}"
   ]
  },
  {
   "cell_type": "code",
   "execution_count": 5,
   "metadata": {},
   "outputs": [],
   "source": [
    "df=df[df.age_group != 'V115']"
   ]
  },
  {
   "cell_type": "code",
   "execution_count": 6,
   "metadata": {},
   "outputs": [],
   "source": [
    "df_old = df"
   ]
  },
  {
   "cell_type": "code",
   "execution_count": 7,
   "metadata": {},
   "outputs": [
    {
     "data": {
      "text/plain": [
       "race_title\n",
       "10K    15650\n",
       "10M     2113\n",
       "1M       199\n",
       "2M        59\n",
       "3K       421\n",
       "4M       216\n",
       "5K      2623\n",
       "5M      4791\n",
       "6M       272\n",
       "7M       411\n",
       "HM      3802\n",
       "Mar      200\n",
       "QM       434\n",
       "dtype: int64"
      ]
     },
     "execution_count": 7,
     "metadata": {},
     "output_type": "execute_result"
    }
   ],
   "source": [
    "df_old.groupby(['race_title'],as_index=False).size()"
   ]
  },
  {
   "cell_type": "code",
   "execution_count": 8,
   "metadata": {},
   "outputs": [
    {
     "data": {
      "text/plain": [
       "age_group\n",
       "SEN    9746\n",
       "U11      12\n",
       "U13      48\n",
       "U15      75\n",
       "U17     130\n",
       "U20     344\n",
       "U23     193\n",
       "V35    3202\n",
       "V40    5540\n",
       "V45    3878\n",
       "V50    3917\n",
       "V55    1950\n",
       "V60    1265\n",
       "V65     528\n",
       "V70     270\n",
       "V75      72\n",
       "V80      17\n",
       "V85       4\n",
       "dtype: int64"
      ]
     },
     "execution_count": 8,
     "metadata": {},
     "output_type": "execute_result"
    }
   ],
   "source": [
    "df_old.groupby(['age_group'],as_index=False).size()"
   ]
  },
  {
   "cell_type": "code",
   "execution_count": 9,
   "metadata": {},
   "outputs": [],
   "source": [
    "race_type = '5K'\n",
    "df=df[df.race_title==race_type]\n",
    "subdf=df[df.race_title==race_type].groupby(['meeting_id','sex','age_group','race_title'],as_index=False)['min_time'].median()"
   ]
  },
  {
   "cell_type": "code",
   "execution_count": 10,
   "metadata": {},
   "outputs": [],
   "source": [
    "Y,Y_dt = [],[]\n",
    "for index,row in df.iterrows():\n",
    "    sex  = row.sex\n",
    "    age  = row.age_group\n",
    "    time = row.min_time \n",
    "    ID   = row.meeting_id\n",
    "    # Need a smarter method for this...I tried building a dictionary like I would\n",
    "    # normally do in C++ but it doesn't work that way in python to my knowledge\n",
    "    temp_row = subdf.loc[(subdf['age_group']==age) & \n",
    "                         (subdf['sex']==sex) &\n",
    "                         (subdf['meeting_id'] == ID)]\n",
    "    avg_time = (temp_row.min_time).item()\n",
    "    #print(avg_time.item(), sex, age, time, ID)\n",
    "    Y.append(0 if (time<=avg_time) else 1)\n",
    "    Y_dt.append(time-avg_time)"
   ]
  },
  {
   "cell_type": "code",
   "execution_count": 11,
   "metadata": {},
   "outputs": [],
   "source": [
    "df.position = df.position.astype(int)"
   ]
  },
  {
   "cell_type": "code",
   "execution_count": 12,
   "metadata": {},
   "outputs": [],
   "source": [
    "X = df\n",
    "X = X.drop(['position','meeting_id', 'race_title', 'race_dist'], axis=1)"
   ]
  },
  {
   "cell_type": "code",
   "execution_count": 13,
   "metadata": {},
   "outputs": [
    {
     "name": "stdout",
     "output_type": "stream",
     "text": [
      "Normalization = 3.1000 miles\n"
     ]
    }
   ],
   "source": [
    "norm = conversion_map[race_type]\n",
    "X['sum_up'] = X['sum_up']/norm\n",
    "X['sigma']  = X['sigma']/norm\n",
    "print('Normalization = %1.4f miles' % norm )"
   ]
  },
  {
   "cell_type": "code",
   "execution_count": 14,
   "metadata": {},
   "outputs": [],
   "source": [
    "age_map = {'U11':0,'U13':0,'U15':0,'U17':0,'U20':0,'U23':0,\n",
    "           'SEN':1,'V35':2,'V40':2,\n",
    "           'V45':3,'V50':3,'V55':4,'V60':4,'V65':5,\n",
    "           'V70':5,'V75':5,'V80':5,'V85':5}\n",
    "for xrow in [X]:\n",
    "    xrow['sex'] = xrow['sex'].map( {'W': 1, 'M': 2} ).astype(int)\n",
    "    xrow['age_group'] = xrow['age_group'].map( age_map )"
   ]
  },
  {
   "cell_type": "code",
   "execution_count": 15,
   "metadata": {},
   "outputs": [
    {
     "data": {
      "text/plain": [
       "LogisticRegression(C=1.0, class_weight=None, dual=False, fit_intercept=True,\n",
       "          intercept_scaling=1, max_iter=100, multi_class='warn',\n",
       "          n_jobs=None, penalty='l2', random_state=None, solver='warn',\n",
       "          tol=0.0001, verbose=0, warm_start=False)"
      ]
     },
     "execution_count": 15,
     "metadata": {},
     "output_type": "execute_result"
    }
   ],
   "source": [
    "clf = LogisticRegression()\n",
    "clf.fit(X, Y)"
   ]
  },
  {
   "cell_type": "code",
   "execution_count": 16,
   "metadata": {},
   "outputs": [
    {
     "name": "stdout",
     "output_type": "stream",
     "text": [
      "           0         0\n",
      "0  age_group -0.344259\n",
      "1        sex  1.529040\n",
      "2   min_time  0.295339\n",
      "3     sum_up  0.000896\n",
      "4      sigma -1.362094\n",
      "5       diff  0.239289\n"
     ]
    }
   ],
   "source": [
    "beta = pd.concat([pd.DataFrame(X.columns),pd.DataFrame(np.transpose(clf.coef_))], axis = 1)\n",
    "print(beta)"
   ]
  },
  {
   "cell_type": "code",
   "execution_count": 28,
   "metadata": {},
   "outputs": [],
   "source": [
    "d = []\n",
    "for index, row in X.iterrows():\n",
    "    rowidx=0\n",
    "    sum = 0.0\n",
    "    for i in row:\n",
    "        sum += i*beta.values[rowidx][1]\n",
    "        rowidx+=1\n",
    "    if sum>50:\n",
    "        continue\n",
    "    d.append(sum)"
   ]
  },
  {
   "cell_type": "code",
   "execution_count": 30,
   "metadata": {},
   "outputs": [
    {
     "name": "stdout",
     "output_type": "stream",
     "text": [
      "Mu,sigma = 8.813, 1.803\n"
     ]
    },
    {
     "data": {
      "image/png": "[encoded data removed]",
      "text/plain": [
       "<matplotlib.figure.Figure at 0x7f082910fa58>"
      ]
     },
     "metadata": {},
     "output_type": "display_data"
    }
   ],
   "source": [
    "from scipy.stats import norm\n",
    "n, bins, patches = plt.hist(d, 200, density=True, \n",
    "                            facecolor='g', alpha=0.75)\n",
    "#plt.axis([10, 35, 0.0, 0.175])\n",
    "plt.grid(True)\n",
    "plt.xlabel('Beta.dot(X) for each data point')\n",
    "(mu,sig) = norm.fit(d)\n",
    "y = mlab.normpdf(bins, mu, sig)\n",
    "l = plt.plot(bins, y, 'r--', linewidth=2)\n",
    "print('Mu,sigma = %1.3f, %1.3f' % (mu,sig))\n",
    "plt.show()"
   ]
  },
  {
   "cell_type": "code",
   "execution_count": 31,
   "metadata": {},
   "outputs": [],
   "source": [
    "def integrate(lo, hi, n, bins):\n",
    "    integral = 0.0\n",
    "    for idx in range(lo,hi):\n",
    "        integral += n[idx] * (bins[idx+1]-bins[idx])\n",
    "    return integral"
   ]
  },
  {
   "cell_type": "code",
   "execution_count": 32,
   "metadata": {},
   "outputs": [],
   "source": [
    "xvals, yvals, dx = [],[],[]\n",
    "for idx in range(0,len(n)):\n",
    "    integral = integrate(0, idx, n, bins)\n",
    "    binpos =  0.5*(bins[idx+1] + bins[idx])\n",
    "    dx.append(bins[idx+1] - bins[idx])\n",
    "    xvals.append(binpos)\n",
    "    yvals.append(integral)"
   ]
  },
  {
   "cell_type": "code",
   "execution_count": 33,
   "metadata": {},
   "outputs": [
    {
     "data": {
      "image/png": "[encoded data removed]",
      "text/plain": [
       "<matplotlib.figure.Figure at 0x7f0829512828>"
      ]
     },
     "metadata": {},
     "output_type": "display_data"
    }
   ],
   "source": [
    "plt.scatter(xvals,yvals,color='black')\n",
    "plt.xlabel('Beta.dot(X) for each data point')\n",
    "plt.ylabel('Integral from bin 0 to bin i')\n",
    "plt.show()"
   ]
  },
  {
   "cell_type": "code",
   "execution_count": 34,
   "metadata": {},
   "outputs": [],
   "source": [
    "# save the betas\n",
    "beta.to_csv('inputs/beta_{0}.csv'.format(race_type),sep=',', \n",
    "            index=False, header=False)"
   ]
  },
  {
   "cell_type": "code",
   "execution_count": 35,
   "metadata": {},
   "outputs": [],
   "source": [
    "# Write out the integral plot\n",
    "f = open('inputs/d_dist_{0}'.format(race_type), 'w')\n",
    "for idx in range(0,len(xvals)):\n",
    "    f.write('%d,%1.5f,%1.5f,%1.5f\\n' % (idx,xvals[idx],yvals[idx], dx[idx]))\n",
    "f.close()"
   ]
  },
  {
   "cell_type": "code",
   "execution_count": null,
   "metadata": {},
   "outputs": [],
   "source": []
  }
 ],
 "metadata": {
  "kernelspec": {
   "display_name": "Python 3",
   "language": "python",
   "name": "python3"
  },
  "language_info": {
   "codemirror_mode": {
    "name": "ipython",
    "version": 3
   },
   "file_extension": ".py",
   "mimetype": "text/x-python",
   "name": "python",
   "nbconvert_exporter": "python",
   "pygments_lexer": "ipython3",
   "version": "3.6.7"
  }
 },
 "nbformat": 4,
 "nbformat_minor": 2
}
