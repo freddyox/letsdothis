{
 "cells": [
  {
   "cell_type": "code",
   "execution_count": 2,
   "metadata": {},
   "outputs": [],
   "source": [
    "import pandas as pd\n",
    "import numpy as np\n",
    "import seaborn as sns\n",
    "import matplotlib.pyplot as plt\n",
    "import matplotlib.mlab as mlab\n",
    "from sklearn import metrics, svm\n",
    "from sklearn.linear_model import LogisticRegression\n",
    "from sklearn import preprocessing\n",
    "from sklearn import utils\n",
    "import warnings\n",
    "warnings.filterwarnings('ignore')"
   ]
  },
  {
   "cell_type": "code",
   "execution_count": 3,
   "metadata": {},
   "outputs": [],
   "source": [
    "race_type = '10K'\n",
    "input_dir = '/home/freddy/insight/letsdothis/inputs/'\n",
    "input_age   = race_type + '/age_map_' + race_type + '.csv'\n",
    "input_times = race_type + '/avg_times_' + race_type + '.csv'\n",
    "input_beta  = race_type + '/beta_' + race_type + '.csv'\n",
    "input_gpx   = race_type + '/gpx_info_' + race_type + '.csv'\n",
    "input_dist  = race_type + '/d_dist_' + race_type + '.csv'\n",
    "input_evts  = race_type + '/event_title_list_' + race_type + '.csv'"
   ]
  },
  {
   "cell_type": "code",
   "execution_count": 3,
   "metadata": {},
   "outputs": [],
   "source": [
    "def make_map(filename):\n",
    "    df = pd.read_csv(filename, header=None)\n",
    "    amap = {}\n",
    "    for index, row in df.iterrows():\n",
    "        amap[df.values[index][0]] = df.values[index][1]\n",
    "    return amap"
   ]
  },
  {
   "cell_type": "markdown",
   "metadata": {},
   "source": [
    "## Event List"
   ]
  },
  {
   "cell_type": "code",
   "execution_count": 51,
   "metadata": {},
   "outputs": [],
   "source": [
    "evt_df =pd.read_csv(input_dir+input_evts)\n",
    "#list(evt_df.event.values)"
   ]
  },
  {
   "cell_type": "code",
   "execution_count": 53,
   "metadata": {},
   "outputs": [
    {
     "name": "stdout",
     "output_type": "stream",
     "text": [
      "[['event'], ['Tilli 10K'], ['Greenwich Park Winter 10K Series'], ['Telford 10K'], [\"Wye Valley Runners New Year's Day 10K\"], ['Percy Pud 10K'], ['Skegness Coasters 10K'], ['Ribble Valley 10K'], ['RunThrough Chase The Moon Olympic Park 10K'], [\"Wymondham AC New Year's Day 10K\"], ['RunThrough Lee Valley VeloPark 10K'], ['Beith Harriers New Year Races'], ['Waterside 10K'], ['Seeley Cup 10K'], ['Royal Parks Winter 10K Series'], ['Self Transcendence 10K'], ['Woodcote 10K'], [\"Mornington Chasers Regent's Park 10K Winter Series\"], ['EHH Boxing Day 10K'], ['Andy Reading 10K'], ['Stoke Stampede 10K'], [\"Serpentine New Year's Day 10K\"], ['Bromham Pudding Run 10K'], ['Hoad Hill Harriers Christmas Pudding 10K'], ['Draycote Water Winter 10K Series'], ['Gravesend Santa Dash 5K / 10K'], ['3-1-5 Lancaster 5K / 10K Series'], ['QEOP Winter 10K Series'], ['Garstang 10K'], ['RunThrough Olympic Park 10K'], ['Ayrodynamic Turkey Trot 10K'], ['Stubbington Green 10K']]\n"
     ]
    }
   ],
   "source": [
    "import csv\n",
    "with open(input_dir+input_evts, 'r') as f:\n",
    "    events = list(csv.reader(f))\n",
    "print(events)"
   ]
  },
  {
   "cell_type": "markdown",
   "metadata": {},
   "source": [
    "## Age Map:"
   ]
  },
  {
   "cell_type": "code",
   "execution_count": 4,
   "metadata": {},
   "outputs": [],
   "source": [
    "amap = make_map(input_dir+input_age)"
   ]
  },
  {
   "cell_type": "code",
   "execution_count": 5,
   "metadata": {},
   "outputs": [
    {
     "name": "stdout",
     "output_type": "stream",
     "text": [
      "17\n"
     ]
    }
   ],
   "source": [
    "MAX_AGE = -1\n",
    "for key,val in amap.items():\n",
    "    if val>MAX_AGE:\n",
    "        MAX_AGE = val\n",
    "print(MAX_AGE)"
   ]
  },
  {
   "cell_type": "markdown",
   "metadata": {},
   "source": [
    "## Sex Map:"
   ]
  },
  {
   "cell_type": "code",
   "execution_count": 6,
   "metadata": {},
   "outputs": [],
   "source": [
    "smap = {'W':1, 'M':2}"
   ]
  },
  {
   "cell_type": "markdown",
   "metadata": {},
   "source": [
    "## Time Map:"
   ]
  },
  {
   "cell_type": "code",
   "execution_count": 7,
   "metadata": {},
   "outputs": [],
   "source": [
    "df = pd.read_csv(input_dir+input_times)"
   ]
  },
  {
   "cell_type": "code",
   "execution_count": 8,
   "metadata": {},
   "outputs": [],
   "source": [
    "def get_min_time(df,ID,sex,age):\n",
    "    ''' Input: df, meeting ID, sex(either 1 or 2), age class\n",
    "        Outut: If age_group is found, return the median time.\n",
    "               Otherwise, find the closest age_group and return\n",
    "               the corresponding median time\n",
    "    '''\n",
    "    temp=df[(df.meeting_id==ID) & (df.sex==sex)]\n",
    "    Age = list(temp['age_group'].values)\n",
    "    success = False\n",
    "    if age in Age:\n",
    "        age = age # Do nothing\n",
    "        success = True\n",
    "    else:\n",
    "        Age.sort()\n",
    "        success = False\n",
    "        for i in Age:\n",
    "            if i>age:\n",
    "                age = i\n",
    "                success=True\n",
    "                break\n",
    "        # Need to go backwards now\n",
    "        if not success:\n",
    "            for i in range(len(Age)-1,-1,-1):\n",
    "                if Age[i] < age:\n",
    "                    age = Age[i]\n",
    "                    break\n",
    "    #print(age,success)\n",
    "    row = temp.loc[(temp['age_group']==age) & \n",
    "                   (temp['sex']==sex) &\n",
    "                   (temp['meeting_id'] == ID)]\n",
    "    return (row.min_time).item()        "
   ]
  },
  {
   "cell_type": "markdown",
   "metadata": {},
   "source": [
    "## Beta Map:"
   ]
  },
  {
   "cell_type": "code",
   "execution_count": 9,
   "metadata": {},
   "outputs": [],
   "source": [
    "# Just re-use the age function\n",
    "beta_map = make_map(input_dir+input_beta)"
   ]
  },
  {
   "cell_type": "markdown",
   "metadata": {},
   "source": [
    "## GPX Map:"
   ]
  },
  {
   "cell_type": "code",
   "execution_count": 10,
   "metadata": {},
   "outputs": [],
   "source": [
    "gpx_df = pd.read_csv(input_dir+input_gpx)"
   ]
  },
  {
   "cell_type": "code",
   "execution_count": 11,
   "metadata": {},
   "outputs": [
    {
     "data": {
      "text/html": [
       "<div>\n",
       "<style scoped>\n",
       "    .dataframe tbody tr th:only-of-type {\n",
       "        vertical-align: middle;\n",
       "    }\n",
       "\n",
       "    .dataframe tbody tr th {\n",
       "        vertical-align: top;\n",
       "    }\n",
       "\n",
       "    .dataframe thead th {\n",
       "        text-align: right;\n",
       "    }\n",
       "</style>\n",
       "<table border=\"1\" class=\"dataframe\">\n",
       "  <thead>\n",
       "    <tr style=\"text-align: right;\">\n",
       "      <th></th>\n",
       "      <th>meeting_id</th>\n",
       "      <th>sum_up</th>\n",
       "      <th>sigma</th>\n",
       "      <th>diff</th>\n",
       "    </tr>\n",
       "  </thead>\n",
       "  <tbody>\n",
       "    <tr>\n",
       "      <th>0</th>\n",
       "      <td>223524</td>\n",
       "      <td>7.967742</td>\n",
       "      <td>0.403710</td>\n",
       "      <td>-2.1</td>\n",
       "    </tr>\n",
       "    <tr>\n",
       "      <th>1</th>\n",
       "      <td>223537</td>\n",
       "      <td>19.370968</td>\n",
       "      <td>0.412258</td>\n",
       "      <td>0.6</td>\n",
       "    </tr>\n",
       "    <tr>\n",
       "      <th>2</th>\n",
       "      <td>223538</td>\n",
       "      <td>16.483871</td>\n",
       "      <td>0.509677</td>\n",
       "      <td>1.7</td>\n",
       "    </tr>\n",
       "    <tr>\n",
       "      <th>3</th>\n",
       "      <td>232067</td>\n",
       "      <td>3.967742</td>\n",
       "      <td>0.075323</td>\n",
       "      <td>-0.2</td>\n",
       "    </tr>\n",
       "    <tr>\n",
       "      <th>4</th>\n",
       "      <td>236203</td>\n",
       "      <td>5.112903</td>\n",
       "      <td>0.348548</td>\n",
       "      <td>-0.6</td>\n",
       "    </tr>\n",
       "  </tbody>\n",
       "</table>\n",
       "</div>"
      ],
      "text/plain": [
       "   meeting_id     sum_up     sigma  diff\n",
       "0      223524   7.967742  0.403710  -2.1\n",
       "1      223537  19.370968  0.412258   0.6\n",
       "2      223538  16.483871  0.509677   1.7\n",
       "3      232067   3.967742  0.075323  -0.2\n",
       "4      236203   5.112903  0.348548  -0.6"
      ]
     },
     "execution_count": 11,
     "metadata": {},
     "output_type": "execute_result"
    }
   ],
   "source": [
    "gpx_df.head()"
   ]
  },
  {
   "cell_type": "code",
   "execution_count": 12,
   "metadata": {},
   "outputs": [],
   "source": [
    "# Make maps:\n",
    "ID_sum_up = dict(zip(gpx_df.meeting_id, gpx_df.sum_up))\n",
    "ID_diff   = dict(zip(gpx_df.meeting_id, gpx_df['diff']))\n",
    "ID_sigma  = dict(zip(gpx_df.meeting_id, gpx_df.sigma))"
   ]
  },
  {
   "cell_type": "code",
   "execution_count": 13,
   "metadata": {},
   "outputs": [],
   "source": [
    "def calc_betax(ID, sexstr, agestr):\n",
    "    # Elevation stuff:\n",
    "    age    = amap[agestr]\n",
    "    sex    = smap[sexstr]\n",
    "    time   = get_min_time(df,ID,sex,age)\n",
    "    sum_up = ID_sum_up[ID]\n",
    "    sigma  = ID_sigma[ID]\n",
    "    diff   = ID_diff[ID]\n",
    "    x = [age,sex,time,sum_up,sigma,diff]\n",
    "    b = [beta_map['age_group'], beta_map['sex'],beta_map['min_time'],\n",
    "         beta_map['sum_up'],beta_map['sigma'],beta_map['diff']]\n",
    "    betax = 0.0\n",
    "    for idx, val in enumerate(x):\n",
    "        betax += x[idx]*b[idx]\n",
    "    return betax"
   ]
  },
  {
   "cell_type": "code",
   "execution_count": 14,
   "metadata": {},
   "outputs": [],
   "source": [
    "d = calc_betax(223524,'M','V35')"
   ]
  },
  {
   "cell_type": "code",
   "execution_count": 15,
   "metadata": {},
   "outputs": [
    {
     "data": {
      "text/html": [
       "<div>\n",
       "<style scoped>\n",
       "    .dataframe tbody tr th:only-of-type {\n",
       "        vertical-align: middle;\n",
       "    }\n",
       "\n",
       "    .dataframe tbody tr th {\n",
       "        vertical-align: top;\n",
       "    }\n",
       "\n",
       "    .dataframe thead th {\n",
       "        text-align: right;\n",
       "    }\n",
       "</style>\n",
       "<table border=\"1\" class=\"dataframe\">\n",
       "  <thead>\n",
       "    <tr style=\"text-align: right;\">\n",
       "      <th></th>\n",
       "      <th>meeting_id</th>\n",
       "      <th>sex</th>\n",
       "      <th>age_group</th>\n",
       "      <th>race_title</th>\n",
       "      <th>min_time</th>\n",
       "    </tr>\n",
       "  </thead>\n",
       "  <tbody>\n",
       "    <tr>\n",
       "      <th>0</th>\n",
       "      <td>223524</td>\n",
       "      <td>2</td>\n",
       "      <td>6</td>\n",
       "      <td>10K</td>\n",
       "      <td>48.066667</td>\n",
       "    </tr>\n",
       "    <tr>\n",
       "      <th>1</th>\n",
       "      <td>223524</td>\n",
       "      <td>2</td>\n",
       "      <td>5</td>\n",
       "      <td>10K</td>\n",
       "      <td>34.433333</td>\n",
       "    </tr>\n",
       "    <tr>\n",
       "      <th>2</th>\n",
       "      <td>223524</td>\n",
       "      <td>2</td>\n",
       "      <td>7</td>\n",
       "      <td>10K</td>\n",
       "      <td>49.850000</td>\n",
       "    </tr>\n",
       "    <tr>\n",
       "      <th>3</th>\n",
       "      <td>223524</td>\n",
       "      <td>2</td>\n",
       "      <td>8</td>\n",
       "      <td>10K</td>\n",
       "      <td>49.433333</td>\n",
       "    </tr>\n",
       "    <tr>\n",
       "      <th>4</th>\n",
       "      <td>223524</td>\n",
       "      <td>2</td>\n",
       "      <td>9</td>\n",
       "      <td>10K</td>\n",
       "      <td>45.666667</td>\n",
       "    </tr>\n",
       "  </tbody>\n",
       "</table>\n",
       "</div>"
      ],
      "text/plain": [
       "   meeting_id  sex  age_group race_title   min_time\n",
       "0      223524    2          6        10K  48.066667\n",
       "1      223524    2          5        10K  34.433333\n",
       "2      223524    2          7        10K  49.850000\n",
       "3      223524    2          8        10K  49.433333\n",
       "4      223524    2          9        10K  45.666667"
      ]
     },
     "execution_count": 15,
     "metadata": {},
     "output_type": "execute_result"
    }
   ],
   "source": [
    "df.head()"
   ]
  },
  {
   "cell_type": "code",
   "execution_count": 16,
   "metadata": {},
   "outputs": [],
   "source": [
    "df_d = pd.read_csv(input_dir+input_dist)"
   ]
  },
  {
   "cell_type": "code",
   "execution_count": 17,
   "metadata": {},
   "outputs": [
    {
     "data": {
      "text/html": [
       "<div>\n",
       "<style scoped>\n",
       "    .dataframe tbody tr th:only-of-type {\n",
       "        vertical-align: middle;\n",
       "    }\n",
       "\n",
       "    .dataframe tbody tr th {\n",
       "        vertical-align: top;\n",
       "    }\n",
       "\n",
       "    .dataframe thead th {\n",
       "        text-align: right;\n",
       "    }\n",
       "</style>\n",
       "<table border=\"1\" class=\"dataframe\">\n",
       "  <thead>\n",
       "    <tr style=\"text-align: right;\">\n",
       "      <th></th>\n",
       "      <th>bin</th>\n",
       "      <th>xval</th>\n",
       "      <th>yval</th>\n",
       "      <th>dx</th>\n",
       "    </tr>\n",
       "  </thead>\n",
       "  <tbody>\n",
       "    <tr>\n",
       "      <th>0</th>\n",
       "      <td>0</td>\n",
       "      <td>10.22699</td>\n",
       "      <td>0.00000</td>\n",
       "      <td>0.17952</td>\n",
       "    </tr>\n",
       "    <tr>\n",
       "      <th>1</th>\n",
       "      <td>1</td>\n",
       "      <td>10.40651</td>\n",
       "      <td>0.00013</td>\n",
       "      <td>0.17952</td>\n",
       "    </tr>\n",
       "    <tr>\n",
       "      <th>2</th>\n",
       "      <td>2</td>\n",
       "      <td>10.58603</td>\n",
       "      <td>0.00032</td>\n",
       "      <td>0.17952</td>\n",
       "    </tr>\n",
       "    <tr>\n",
       "      <th>3</th>\n",
       "      <td>3</td>\n",
       "      <td>10.76555</td>\n",
       "      <td>0.00077</td>\n",
       "      <td>0.17952</td>\n",
       "    </tr>\n",
       "    <tr>\n",
       "      <th>4</th>\n",
       "      <td>4</td>\n",
       "      <td>10.94507</td>\n",
       "      <td>0.00115</td>\n",
       "      <td>0.17952</td>\n",
       "    </tr>\n",
       "  </tbody>\n",
       "</table>\n",
       "</div>"
      ],
      "text/plain": [
       "   bin      xval     yval       dx\n",
       "0    0  10.22699  0.00000  0.17952\n",
       "1    1  10.40651  0.00013  0.17952\n",
       "2    2  10.58603  0.00032  0.17952\n",
       "3    3  10.76555  0.00077  0.17952\n",
       "4    4  10.94507  0.00115  0.17952"
      ]
     },
     "execution_count": 17,
     "metadata": {},
     "output_type": "execute_result"
    }
   ],
   "source": [
    "df_d.head()"
   ]
  },
  {
   "cell_type": "code",
   "execution_count": 18,
   "metadata": {},
   "outputs": [],
   "source": [
    "bins, xs, ys, dxs = [], [], [], []\n",
    "for index,row in df_d.iterrows():\n",
    "    bins.append(row.bin)\n",
    "    xs.append(row.xval)\n",
    "    ys.append(row.yval)\n",
    "    dxs.append(row.dx)"
   ]
  },
  {
   "cell_type": "code",
   "execution_count": 19,
   "metadata": {},
   "outputs": [],
   "source": [
    "def get_score(dval):\n",
    "    score = -1.0\n",
    "    for idx,val in enumerate(xs):\n",
    "        dx = dxs[idx]*0.5\n",
    "        dlo = xs[idx] - dx\n",
    "        dhi = xs[idx] + dx\n",
    "        if dval >= dlo and dval < dhi:\n",
    "            score = ys[idx]\n",
    "            break\n",
    "    return score"
   ]
  },
  {
   "cell_type": "code",
   "execution_count": 20,
   "metadata": {},
   "outputs": [
    {
     "name": "stdout",
     "output_type": "stream",
     "text": [
      "score = 6.9, b.x = 18.75\n"
     ]
    }
   ],
   "source": [
    "print('score = %1.1f, b.x = %1.2f' % (get_score(d)*10,d))"
   ]
  },
  {
   "cell_type": "code",
   "execution_count": 21,
   "metadata": {},
   "outputs": [],
   "source": [
    "scores = []\n",
    "for key,val in ID_sigma.items():\n",
    "    d = calc_betax(key,'M','SEN')\n",
    "    score = get_score(d)*10.0\n",
    "    scores.append(score)\n",
    "    #print('score = %1.1f, b.x = %1.2f' % (score,d))"
   ]
  },
  {
   "cell_type": "code",
   "execution_count": 22,
   "metadata": {},
   "outputs": [
    {
     "data": {
      "image/png": "[encoded data removed]",
      "text/plain": [
       "<matplotlib.figure.Figure at 0x7f9040db0e10>"
      ]
     },
     "metadata": {},
     "output_type": "display_data"
    }
   ],
   "source": [
    "n, bins, patches = plt.hist(scores, 50, density=False, \n",
    "                            facecolor='g', alpha=0.75)\n",
    "#plt.axis([10, 35, 0.0, 0.175])\n",
    "plt.grid(True)\n",
    "plt.xlabel('Scores for M, V35 for available 10Ks')\n",
    "plt.show()"
   ]
  },
  {
   "cell_type": "code",
   "execution_count": 23,
   "metadata": {},
   "outputs": [
    {
     "name": "stdout",
     "output_type": "stream",
     "text": [
      "0.7138\n",
      "0.68958\n",
      "0.68958\n",
      "0.64396\n"
     ]
    }
   ],
   "source": [
    "print(get_score(calc_betax(223537,'M','SEN')))\n",
    "print(get_score(calc_betax(223538,'M','SEN')))\n",
    "print(get_score(calc_betax(271791,'M','SEN')))\n",
    "print(get_score(calc_betax(271807,'M','SEN')))"
   ]
  },
  {
   "cell_type": "code",
   "execution_count": 5,
   "metadata": {},
   "outputs": [],
   "source": [
    "gpx_df = pd.read_csv(input_dir+input_gpx)\n",
    "id_sum_up = dict(zip(gpx_df.meeting_id, gpx_df.sum_up))\n",
    "id_diff   = dict(zip(gpx_df.meeting_id, gpx_df['diff']))\n",
    "id_sigma  = dict(zip(gpx_df.meeting_id, gpx_df.sigma))\n",
    "sum_up = id_sum_up[223524]"
   ]
  },
  {
   "cell_type": "code",
   "execution_count": null,
   "metadata": {},
   "outputs": [],
   "source": []
  }
 ],
 "metadata": {
  "kernelspec": {
   "display_name": "Python 3",
   "language": "python",
   "name": "python3"
  },
  "language_info": {
   "codemirror_mode": {
    "name": "ipython",
    "version": 3
   },
   "file_extension": ".py",
   "mimetype": "text/x-python",
   "name": "python",
   "nbconvert_exporter": "python",
   "pygments_lexer": "ipython3",
   "version": "3.6.7"
  }
 },
 "nbformat": 4,
 "nbformat_minor": 2
}
