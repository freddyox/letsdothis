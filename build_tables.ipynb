{
 "cells": [
  {
   "cell_type": "markdown",
   "metadata": {},
   "source": [
    "## Combine JSON files and build tables"
   ]
  },
  {
   "cell_type": "code",
   "execution_count": 1,
   "metadata": {},
   "outputs": [],
   "source": [
    "import os\n",
    "import pandas as pd\n",
    "from pandas.io.json import json_normalize\n",
    "import seaborn as sns"
   ]
  },
  {
   "cell_type": "code",
   "execution_count": 2,
   "metadata": {},
   "outputs": [],
   "source": [
    "datadir = '/home/freddy/insight/data/runbritain_scraped/v2/'"
   ]
  },
  {
   "cell_type": "code",
   "execution_count": 3,
   "metadata": {},
   "outputs": [],
   "source": [
    "datadirs = []\n",
    "for i,j,k in os.walk(datadir):\n",
    "    tempstr = str(i)\n",
    "    if 'events_' in tempstr:\n",
    "        datadirs.append(i)"
   ]
  },
  {
   "cell_type": "code",
   "execution_count": 4,
   "metadata": {},
   "outputs": [],
   "source": [
    "alljsonfiles = {}\n",
    "njson = 0\n",
    "for d in datadirs:\n",
    "    jsonfiles = []\n",
    "    for i,j,k in os.walk(d):\n",
    "        jsonfiles.extend(k)\n",
    "        break\n",
    "    alljsonfiles[d] = jsonfiles\n",
    "    njson += len(jsonfiles)"
   ]
  },
  {
   "cell_type": "code",
   "execution_count": 5,
   "metadata": {},
   "outputs": [
    {
     "name": "stdout",
     "output_type": "stream",
     "text": [
      "From 11 directories, we found 12014 JSON files for collection.\n",
      "/home/freddy/insight/runbritain_scraped/v2/events_5\n",
      "/home/freddy/insight/runbritain_scraped/v2/events_8\n",
      "/home/freddy/insight/runbritain_scraped/v2/events_3\n",
      "/home/freddy/insight/runbritain_scraped/v2/events_7\n",
      "/home/freddy/insight/runbritain_scraped/v2/events_1\n",
      "/home/freddy/insight/runbritain_scraped/v2/events_4\n",
      "/home/freddy/insight/runbritain_scraped/v2/events_6\n",
      "/home/freddy/insight/runbritain_scraped/v2/events_10\n",
      "/home/freddy/insight/runbritain_scraped/v2/events_9\n",
      "/home/freddy/insight/runbritain_scraped/v2/events_2\n",
      "/home/freddy/insight/runbritain_scraped/v2/events_11\n"
     ]
    }
   ],
   "source": [
    "print('From %d directories, we found %d JSON files for collection.' \n",
    "      % (len(datadirs), njson))\n",
    "for i in datadirs:\n",
    "    print(i)"
   ]
  },
  {
   "cell_type": "code",
   "execution_count": 6,
   "metadata": {},
   "outputs": [],
   "source": [
    "count = 0\n",
    "dfs = []\n",
    "for key, val in alljsonfiles.items():\n",
    "    count = count + 1\n",
    "    for idx, val2 in enumerate(val):\n",
    "        filename = str(key) + '/' + str(val2)\n",
    "        #print(filename)\n",
    "        df = pd.read_json(filename)\n",
    "        dfs.append(df)\n",
    "        #if count >= 2:\n",
    "        #    break"
   ]
  },
  {
   "cell_type": "code",
   "execution_count": 7,
   "metadata": {},
   "outputs": [],
   "source": [
    "def get_evt_types(df):\n",
    "    event_types = []\n",
    "    for i in range(0,df.shape[0]):\n",
    "        event_types.append(str(df.iloc[i].name))\n",
    "    return event_types"
   ]
  },
  {
   "cell_type": "code",
   "execution_count": 8,
   "metadata": {},
   "outputs": [],
   "source": [
    "def get_date(df):\n",
    "    if df.shape[0]>0:\n",
    "        return df.iloc[0][0]\n",
    "    else:\n",
    "        return None"
   ]
  },
  {
   "cell_type": "code",
   "execution_count": 9,
   "metadata": {},
   "outputs": [],
   "source": [
    "def get_loc(df):\n",
    "    if df.shape[0]>0:\n",
    "        return df.iloc[0][1]\n",
    "    else:\n",
    "        return None"
   ]
  },
  {
   "cell_type": "code",
   "execution_count": 10,
   "metadata": {},
   "outputs": [],
   "source": [
    "def cut_up_url(url):\n",
    "    flag = 'meetingid='\n",
    "    start = url.find(flag)+len(flag) \n",
    "    end   = url.find('&')\n",
    "    substr = url[start:end]\n",
    "    return substr"
   ]
  },
  {
   "cell_type": "code",
   "execution_count": 11,
   "metadata": {},
   "outputs": [],
   "source": [
    "def get_id(df):\n",
    "    if df.shape[0]>0:\n",
    "        return cut_up_url(df.iloc[0][3])\n",
    "    else:\n",
    "        return None"
   ]
  },
  {
   "cell_type": "code",
   "execution_count": 12,
   "metadata": {},
   "outputs": [],
   "source": [
    "columns2delete = ['club','rb_handicap','rb_personal_best',\n",
    "                  'rb_season_best','strava_profile']"
   ]
  },
  {
   "cell_type": "code",
   "execution_count": 17,
   "metadata": {},
   "outputs": [],
   "source": [
    "def flatten_df(df, uniqueID):\n",
    "    types  = get_evt_types(df)\n",
    "    date   = get_date(df)\n",
    "    loc    = get_loc(df)\n",
    "    m_id   = get_id(df)\n",
    "    frames = []  # Let's hold all frames\n",
    "    for i in types:\n",
    "        temp = i\n",
    "        df_race = json_normalize(df['races'][i]['results'])\n",
    "        df_race = df_race.drop(columns2delete, axis=1)\n",
    "        frames.append(df_race)\n",
    "     \n",
    "    # finish up, add meta data\n",
    "    #print('flat_size = ', len(frames), date)\n",
    "    if len(frames) > 0:\n",
    "        total_frame = pd.concat(frames) \n",
    "        total_frame['race_data'] = date\n",
    "        total_frame['race_location'] = loc\n",
    "        total_frame['meeting_id'] = m_id\n",
    "        total_frame['uniqueID'] = uniqueID\n",
    "        return total_frame\n",
    "    else:\n",
    "        return None"
   ]
  },
  {
   "cell_type": "code",
   "execution_count": 14,
   "metadata": {},
   "outputs": [],
   "source": [
    "columns2keep=['age_group', 'chip_time', 'gun_time', 'name', 'position', \n",
    "              'race_title', 'sex', 'terrain']"
   ]
  },
  {
   "cell_type": "code",
   "execution_count": 18,
   "metadata": {},
   "outputs": [
    {
     "name": "stdout",
     "output_type": "stream",
     "text": [
      "12014\n"
     ]
    }
   ],
   "source": [
    "# Main driver cell\n",
    "final_df_frames = []\n",
    "ID = 0\n",
    "for i in dfs:\n",
    "    subdf = flatten_df(i,ID)\n",
    "    final_df_frames.append(subdf)\n",
    "    ID += 1\n",
    "print(len(final_df_frames))\n",
    "final_df = pd.concat(final_df_frames)    "
   ]
  },
  {
   "cell_type": "code",
   "execution_count": 19,
   "metadata": {},
   "outputs": [],
   "source": [
    "final_df.to_csv('testing.csv',sep=',')"
   ]
  }
 ],
 "metadata": {
  "kernelspec": {
   "display_name": "Python 3",
   "language": "python",
   "name": "python3"
  },
  "language_info": {
   "codemirror_mode": {
    "name": "ipython",
    "version": 3
   },
   "file_extension": ".py",
   "mimetype": "text/x-python",
   "name": "python",
   "nbconvert_exporter": "python",
   "pygments_lexer": "ipython3",
   "version": "3.6.7"
  }
 },
 "nbformat": 4,
 "nbformat_minor": 2
}
